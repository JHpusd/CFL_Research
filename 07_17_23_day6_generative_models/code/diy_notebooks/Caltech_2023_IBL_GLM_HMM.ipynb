{
  "nbformat": 4,
  "nbformat_minor": 0,
  "metadata": {
    "colab": {
      "provenance": [],
      "include_colab_link": true
    },
    "kernelspec": {
      "name": "python3",
      "display_name": "Python 3"
    },
    "language_info": {
      "name": "python"
    },
    "widgets": {
      "application/vnd.jupyter.widget-state+json": {
        "3424c94de3264c29a9a54c6fb83c6584": {
          "model_module": "@jupyter-widgets/controls",
          "model_name": "HBoxModel",
          "model_module_version": "1.5.0",
          "state": {
            "_dom_classes": [],
            "_model_module": "@jupyter-widgets/controls",
            "_model_module_version": "1.5.0",
            "_model_name": "HBoxModel",
            "_view_count": null,
            "_view_module": "@jupyter-widgets/controls",
            "_view_module_version": "1.5.0",
            "_view_name": "HBoxView",
            "box_style": "",
            "children": [
              "IPY_MODEL_932d118bcf1f4c19a024adb5e2284160",
              "IPY_MODEL_0709f4ddca1848c9ac5d0e3d69d83284",
              "IPY_MODEL_1e46059c8d2447e184aac77ec89f4f19"
            ],
            "layout": "IPY_MODEL_c91dde9a4b364d238801a8d81a2f5d59"
          }
        },
        "932d118bcf1f4c19a024adb5e2284160": {
          "model_module": "@jupyter-widgets/controls",
          "model_name": "HTMLModel",
          "model_module_version": "1.5.0",
          "state": {
            "_dom_classes": [],
            "_model_module": "@jupyter-widgets/controls",
            "_model_module_version": "1.5.0",
            "_model_name": "HTMLModel",
            "_view_count": null,
            "_view_module": "@jupyter-widgets/controls",
            "_view_module_version": "1.5.0",
            "_view_name": "HTMLView",
            "description": "",
            "description_tooltip": null,
            "layout": "IPY_MODEL_3fde040ad41b4ff995e9d543796e98c0",
            "placeholder": "​",
            "style": "IPY_MODEL_d66efeafea624605a5761b00c6ed2f06",
            "value": "Converged to LP: -685.5:   0%"
          }
        },
        "0709f4ddca1848c9ac5d0e3d69d83284": {
          "model_module": "@jupyter-widgets/controls",
          "model_name": "FloatProgressModel",
          "model_module_version": "1.5.0",
          "state": {
            "_dom_classes": [],
            "_model_module": "@jupyter-widgets/controls",
            "_model_module_version": "1.5.0",
            "_model_name": "FloatProgressModel",
            "_view_count": null,
            "_view_module": "@jupyter-widgets/controls",
            "_view_module_version": "1.5.0",
            "_view_name": "ProgressView",
            "bar_style": "danger",
            "description": "",
            "description_tooltip": null,
            "layout": "IPY_MODEL_90f2a54a9899428daf41dca7666d2c7b",
            "max": 200,
            "min": 0,
            "orientation": "horizontal",
            "style": "IPY_MODEL_648087a2c63c49db9cb5c4f4e86e4b85",
            "value": 1
          }
        },
        "1e46059c8d2447e184aac77ec89f4f19": {
          "model_module": "@jupyter-widgets/controls",
          "model_name": "HTMLModel",
          "model_module_version": "1.5.0",
          "state": {
            "_dom_classes": [],
            "_model_module": "@jupyter-widgets/controls",
            "_model_module_version": "1.5.0",
            "_model_name": "HTMLModel",
            "_view_count": null,
            "_view_module": "@jupyter-widgets/controls",
            "_view_module_version": "1.5.0",
            "_view_name": "HTMLView",
            "description": "",
            "description_tooltip": null,
            "layout": "IPY_MODEL_d7b1b07dbed942d5a415bb6e1098fc04",
            "placeholder": "​",
            "style": "IPY_MODEL_64b992cf6f9f478eb961f2f52d9f4a32",
            "value": " 1/200 [00:00&lt;00:18, 10.70it/s]"
          }
        },
        "c91dde9a4b364d238801a8d81a2f5d59": {
          "model_module": "@jupyter-widgets/base",
          "model_name": "LayoutModel",
          "model_module_version": "1.2.0",
          "state": {
            "_model_module": "@jupyter-widgets/base",
            "_model_module_version": "1.2.0",
            "_model_name": "LayoutModel",
            "_view_count": null,
            "_view_module": "@jupyter-widgets/base",
            "_view_module_version": "1.2.0",
            "_view_name": "LayoutView",
            "align_content": null,
            "align_items": null,
            "align_self": null,
            "border": null,
            "bottom": null,
            "display": null,
            "flex": null,
            "flex_flow": null,
            "grid_area": null,
            "grid_auto_columns": null,
            "grid_auto_flow": null,
            "grid_auto_rows": null,
            "grid_column": null,
            "grid_gap": null,
            "grid_row": null,
            "grid_template_areas": null,
            "grid_template_columns": null,
            "grid_template_rows": null,
            "height": null,
            "justify_content": null,
            "justify_items": null,
            "left": null,
            "margin": null,
            "max_height": null,
            "max_width": null,
            "min_height": null,
            "min_width": null,
            "object_fit": null,
            "object_position": null,
            "order": null,
            "overflow": null,
            "overflow_x": null,
            "overflow_y": null,
            "padding": null,
            "right": null,
            "top": null,
            "visibility": null,
            "width": null
          }
        },
        "3fde040ad41b4ff995e9d543796e98c0": {
          "model_module": "@jupyter-widgets/base",
          "model_name": "LayoutModel",
          "model_module_version": "1.2.0",
          "state": {
            "_model_module": "@jupyter-widgets/base",
            "_model_module_version": "1.2.0",
            "_model_name": "LayoutModel",
            "_view_count": null,
            "_view_module": "@jupyter-widgets/base",
            "_view_module_version": "1.2.0",
            "_view_name": "LayoutView",
            "align_content": null,
            "align_items": null,
            "align_self": null,
            "border": null,
            "bottom": null,
            "display": null,
            "flex": null,
            "flex_flow": null,
            "grid_area": null,
            "grid_auto_columns": null,
            "grid_auto_flow": null,
            "grid_auto_rows": null,
            "grid_column": null,
            "grid_gap": null,
            "grid_row": null,
            "grid_template_areas": null,
            "grid_template_columns": null,
            "grid_template_rows": null,
            "height": null,
            "justify_content": null,
            "justify_items": null,
            "left": null,
            "margin": null,
            "max_height": null,
            "max_width": null,
            "min_height": null,
            "min_width": null,
            "object_fit": null,
            "object_position": null,
            "order": null,
            "overflow": null,
            "overflow_x": null,
            "overflow_y": null,
            "padding": null,
            "right": null,
            "top": null,
            "visibility": null,
            "width": null
          }
        },
        "d66efeafea624605a5761b00c6ed2f06": {
          "model_module": "@jupyter-widgets/controls",
          "model_name": "DescriptionStyleModel",
          "model_module_version": "1.5.0",
          "state": {
            "_model_module": "@jupyter-widgets/controls",
            "_model_module_version": "1.5.0",
            "_model_name": "DescriptionStyleModel",
            "_view_count": null,
            "_view_module": "@jupyter-widgets/base",
            "_view_module_version": "1.2.0",
            "_view_name": "StyleView",
            "description_width": ""
          }
        },
        "90f2a54a9899428daf41dca7666d2c7b": {
          "model_module": "@jupyter-widgets/base",
          "model_name": "LayoutModel",
          "model_module_version": "1.2.0",
          "state": {
            "_model_module": "@jupyter-widgets/base",
            "_model_module_version": "1.2.0",
            "_model_name": "LayoutModel",
            "_view_count": null,
            "_view_module": "@jupyter-widgets/base",
            "_view_module_version": "1.2.0",
            "_view_name": "LayoutView",
            "align_content": null,
            "align_items": null,
            "align_self": null,
            "border": null,
            "bottom": null,
            "display": null,
            "flex": null,
            "flex_flow": null,
            "grid_area": null,
            "grid_auto_columns": null,
            "grid_auto_flow": null,
            "grid_auto_rows": null,
            "grid_column": null,
            "grid_gap": null,
            "grid_row": null,
            "grid_template_areas": null,
            "grid_template_columns": null,
            "grid_template_rows": null,
            "height": null,
            "justify_content": null,
            "justify_items": null,
            "left": null,
            "margin": null,
            "max_height": null,
            "max_width": null,
            "min_height": null,
            "min_width": null,
            "object_fit": null,
            "object_position": null,
            "order": null,
            "overflow": null,
            "overflow_x": null,
            "overflow_y": null,
            "padding": null,
            "right": null,
            "top": null,
            "visibility": null,
            "width": null
          }
        },
        "648087a2c63c49db9cb5c4f4e86e4b85": {
          "model_module": "@jupyter-widgets/controls",
          "model_name": "ProgressStyleModel",
          "model_module_version": "1.5.0",
          "state": {
            "_model_module": "@jupyter-widgets/controls",
            "_model_module_version": "1.5.0",
            "_model_name": "ProgressStyleModel",
            "_view_count": null,
            "_view_module": "@jupyter-widgets/base",
            "_view_module_version": "1.2.0",
            "_view_name": "StyleView",
            "bar_color": null,
            "description_width": ""
          }
        },
        "d7b1b07dbed942d5a415bb6e1098fc04": {
          "model_module": "@jupyter-widgets/base",
          "model_name": "LayoutModel",
          "model_module_version": "1.2.0",
          "state": {
            "_model_module": "@jupyter-widgets/base",
            "_model_module_version": "1.2.0",
            "_model_name": "LayoutModel",
            "_view_count": null,
            "_view_module": "@jupyter-widgets/base",
            "_view_module_version": "1.2.0",
            "_view_name": "LayoutView",
            "align_content": null,
            "align_items": null,
            "align_self": null,
            "border": null,
            "bottom": null,
            "display": null,
            "flex": null,
            "flex_flow": null,
            "grid_area": null,
            "grid_auto_columns": null,
            "grid_auto_flow": null,
            "grid_auto_rows": null,
            "grid_column": null,
            "grid_gap": null,
            "grid_row": null,
            "grid_template_areas": null,
            "grid_template_columns": null,
            "grid_template_rows": null,
            "height": null,
            "justify_content": null,
            "justify_items": null,
            "left": null,
            "margin": null,
            "max_height": null,
            "max_width": null,
            "min_height": null,
            "min_width": null,
            "object_fit": null,
            "object_position": null,
            "order": null,
            "overflow": null,
            "overflow_x": null,
            "overflow_y": null,
            "padding": null,
            "right": null,
            "top": null,
            "visibility": null,
            "width": null
          }
        },
        "64b992cf6f9f478eb961f2f52d9f4a32": {
          "model_module": "@jupyter-widgets/controls",
          "model_name": "DescriptionStyleModel",
          "model_module_version": "1.5.0",
          "state": {
            "_model_module": "@jupyter-widgets/controls",
            "_model_module_version": "1.5.0",
            "_model_name": "DescriptionStyleModel",
            "_view_count": null,
            "_view_module": "@jupyter-widgets/base",
            "_view_module_version": "1.2.0",
            "_view_name": "StyleView",
            "description_width": ""
          }
        },
        "0c03a24e36b742aaa616e2ea7854742c": {
          "model_module": "@jupyter-widgets/controls",
          "model_name": "HBoxModel",
          "model_module_version": "1.5.0",
          "state": {
            "_dom_classes": [],
            "_model_module": "@jupyter-widgets/controls",
            "_model_module_version": "1.5.0",
            "_model_name": "HBoxModel",
            "_view_count": null,
            "_view_module": "@jupyter-widgets/controls",
            "_view_module_version": "1.5.0",
            "_view_name": "HBoxView",
            "box_style": "",
            "children": [
              "IPY_MODEL_5b50c8096231432ea49dfe14a01663a4",
              "IPY_MODEL_401ca0c223cb42f3b1447fa2614ac0a1",
              "IPY_MODEL_6d9f49461445440a995d13d38270c0a3"
            ],
            "layout": "IPY_MODEL_e6b48dfa306d4a7abb60cc1d7fa48508"
          }
        },
        "5b50c8096231432ea49dfe14a01663a4": {
          "model_module": "@jupyter-widgets/controls",
          "model_name": "HTMLModel",
          "model_module_version": "1.5.0",
          "state": {
            "_dom_classes": [],
            "_model_module": "@jupyter-widgets/controls",
            "_model_module_version": "1.5.0",
            "_model_name": "HTMLModel",
            "_view_count": null,
            "_view_module": "@jupyter-widgets/controls",
            "_view_module_version": "1.5.0",
            "_view_name": "HTMLView",
            "description": "",
            "description_tooltip": null,
            "layout": "IPY_MODEL_d38d1354b23c447882e62969d54406c7",
            "placeholder": "​",
            "style": "IPY_MODEL_725f27cea53c4caf9afff968f9352ff4",
            "value": "Converged to LP: -669.8:  19%"
          }
        },
        "401ca0c223cb42f3b1447fa2614ac0a1": {
          "model_module": "@jupyter-widgets/controls",
          "model_name": "FloatProgressModel",
          "model_module_version": "1.5.0",
          "state": {
            "_dom_classes": [],
            "_model_module": "@jupyter-widgets/controls",
            "_model_module_version": "1.5.0",
            "_model_name": "FloatProgressModel",
            "_view_count": null,
            "_view_module": "@jupyter-widgets/controls",
            "_view_module_version": "1.5.0",
            "_view_name": "ProgressView",
            "bar_style": "danger",
            "description": "",
            "description_tooltip": null,
            "layout": "IPY_MODEL_510ddceb8d104e9c9d52d5951038645b",
            "max": 200,
            "min": 0,
            "orientation": "horizontal",
            "style": "IPY_MODEL_a27dbc69b0e84b09a2680c3a59efd255",
            "value": 38
          }
        },
        "6d9f49461445440a995d13d38270c0a3": {
          "model_module": "@jupyter-widgets/controls",
          "model_name": "HTMLModel",
          "model_module_version": "1.5.0",
          "state": {
            "_dom_classes": [],
            "_model_module": "@jupyter-widgets/controls",
            "_model_module_version": "1.5.0",
            "_model_name": "HTMLModel",
            "_view_count": null,
            "_view_module": "@jupyter-widgets/controls",
            "_view_module_version": "1.5.0",
            "_view_name": "HTMLView",
            "description": "",
            "description_tooltip": null,
            "layout": "IPY_MODEL_4ad7dc3ba49a45a0a8c95c6a6a59b254",
            "placeholder": "​",
            "style": "IPY_MODEL_33a20b0be15d46e7af5db66a5825078f",
            "value": " 38/200 [00:22&lt;01:24,  1.93it/s]"
          }
        },
        "e6b48dfa306d4a7abb60cc1d7fa48508": {
          "model_module": "@jupyter-widgets/base",
          "model_name": "LayoutModel",
          "model_module_version": "1.2.0",
          "state": {
            "_model_module": "@jupyter-widgets/base",
            "_model_module_version": "1.2.0",
            "_model_name": "LayoutModel",
            "_view_count": null,
            "_view_module": "@jupyter-widgets/base",
            "_view_module_version": "1.2.0",
            "_view_name": "LayoutView",
            "align_content": null,
            "align_items": null,
            "align_self": null,
            "border": null,
            "bottom": null,
            "display": null,
            "flex": null,
            "flex_flow": null,
            "grid_area": null,
            "grid_auto_columns": null,
            "grid_auto_flow": null,
            "grid_auto_rows": null,
            "grid_column": null,
            "grid_gap": null,
            "grid_row": null,
            "grid_template_areas": null,
            "grid_template_columns": null,
            "grid_template_rows": null,
            "height": null,
            "justify_content": null,
            "justify_items": null,
            "left": null,
            "margin": null,
            "max_height": null,
            "max_width": null,
            "min_height": null,
            "min_width": null,
            "object_fit": null,
            "object_position": null,
            "order": null,
            "overflow": null,
            "overflow_x": null,
            "overflow_y": null,
            "padding": null,
            "right": null,
            "top": null,
            "visibility": null,
            "width": null
          }
        },
        "d38d1354b23c447882e62969d54406c7": {
          "model_module": "@jupyter-widgets/base",
          "model_name": "LayoutModel",
          "model_module_version": "1.2.0",
          "state": {
            "_model_module": "@jupyter-widgets/base",
            "_model_module_version": "1.2.0",
            "_model_name": "LayoutModel",
            "_view_count": null,
            "_view_module": "@jupyter-widgets/base",
            "_view_module_version": "1.2.0",
            "_view_name": "LayoutView",
            "align_content": null,
            "align_items": null,
            "align_self": null,
            "border": null,
            "bottom": null,
            "display": null,
            "flex": null,
            "flex_flow": null,
            "grid_area": null,
            "grid_auto_columns": null,
            "grid_auto_flow": null,
            "grid_auto_rows": null,
            "grid_column": null,
            "grid_gap": null,
            "grid_row": null,
            "grid_template_areas": null,
            "grid_template_columns": null,
            "grid_template_rows": null,
            "height": null,
            "justify_content": null,
            "justify_items": null,
            "left": null,
            "margin": null,
            "max_height": null,
            "max_width": null,
            "min_height": null,
            "min_width": null,
            "object_fit": null,
            "object_position": null,
            "order": null,
            "overflow": null,
            "overflow_x": null,
            "overflow_y": null,
            "padding": null,
            "right": null,
            "top": null,
            "visibility": null,
            "width": null
          }
        },
        "725f27cea53c4caf9afff968f9352ff4": {
          "model_module": "@jupyter-widgets/controls",
          "model_name": "DescriptionStyleModel",
          "model_module_version": "1.5.0",
          "state": {
            "_model_module": "@jupyter-widgets/controls",
            "_model_module_version": "1.5.0",
            "_model_name": "DescriptionStyleModel",
            "_view_count": null,
            "_view_module": "@jupyter-widgets/base",
            "_view_module_version": "1.2.0",
            "_view_name": "StyleView",
            "description_width": ""
          }
        },
        "510ddceb8d104e9c9d52d5951038645b": {
          "model_module": "@jupyter-widgets/base",
          "model_name": "LayoutModel",
          "model_module_version": "1.2.0",
          "state": {
            "_model_module": "@jupyter-widgets/base",
            "_model_module_version": "1.2.0",
            "_model_name": "LayoutModel",
            "_view_count": null,
            "_view_module": "@jupyter-widgets/base",
            "_view_module_version": "1.2.0",
            "_view_name": "LayoutView",
            "align_content": null,
            "align_items": null,
            "align_self": null,
            "border": null,
            "bottom": null,
            "display": null,
            "flex": null,
            "flex_flow": null,
            "grid_area": null,
            "grid_auto_columns": null,
            "grid_auto_flow": null,
            "grid_auto_rows": null,
            "grid_column": null,
            "grid_gap": null,
            "grid_row": null,
            "grid_template_areas": null,
            "grid_template_columns": null,
            "grid_template_rows": null,
            "height": null,
            "justify_content": null,
            "justify_items": null,
            "left": null,
            "margin": null,
            "max_height": null,
            "max_width": null,
            "min_height": null,
            "min_width": null,
            "object_fit": null,
            "object_position": null,
            "order": null,
            "overflow": null,
            "overflow_x": null,
            "overflow_y": null,
            "padding": null,
            "right": null,
            "top": null,
            "visibility": null,
            "width": null
          }
        },
        "a27dbc69b0e84b09a2680c3a59efd255": {
          "model_module": "@jupyter-widgets/controls",
          "model_name": "ProgressStyleModel",
          "model_module_version": "1.5.0",
          "state": {
            "_model_module": "@jupyter-widgets/controls",
            "_model_module_version": "1.5.0",
            "_model_name": "ProgressStyleModel",
            "_view_count": null,
            "_view_module": "@jupyter-widgets/base",
            "_view_module_version": "1.2.0",
            "_view_name": "StyleView",
            "bar_color": null,
            "description_width": ""
          }
        },
        "4ad7dc3ba49a45a0a8c95c6a6a59b254": {
          "model_module": "@jupyter-widgets/base",
          "model_name": "LayoutModel",
          "model_module_version": "1.2.0",
          "state": {
            "_model_module": "@jupyter-widgets/base",
            "_model_module_version": "1.2.0",
            "_model_name": "LayoutModel",
            "_view_count": null,
            "_view_module": "@jupyter-widgets/base",
            "_view_module_version": "1.2.0",
            "_view_name": "LayoutView",
            "align_content": null,
            "align_items": null,
            "align_self": null,
            "border": null,
            "bottom": null,
            "display": null,
            "flex": null,
            "flex_flow": null,
            "grid_area": null,
            "grid_auto_columns": null,
            "grid_auto_flow": null,
            "grid_auto_rows": null,
            "grid_column": null,
            "grid_gap": null,
            "grid_row": null,
            "grid_template_areas": null,
            "grid_template_columns": null,
            "grid_template_rows": null,
            "height": null,
            "justify_content": null,
            "justify_items": null,
            "left": null,
            "margin": null,
            "max_height": null,
            "max_width": null,
            "min_height": null,
            "min_width": null,
            "object_fit": null,
            "object_position": null,
            "order": null,
            "overflow": null,
            "overflow_x": null,
            "overflow_y": null,
            "padding": null,
            "right": null,
            "top": null,
            "visibility": null,
            "width": null
          }
        },
        "33a20b0be15d46e7af5db66a5825078f": {
          "model_module": "@jupyter-widgets/controls",
          "model_name": "DescriptionStyleModel",
          "model_module_version": "1.5.0",
          "state": {
            "_model_module": "@jupyter-widgets/controls",
            "_model_module_version": "1.5.0",
            "_model_name": "DescriptionStyleModel",
            "_view_count": null,
            "_view_module": "@jupyter-widgets/base",
            "_view_module_version": "1.2.0",
            "_view_name": "StyleView",
            "description_width": ""
          }
        }
      }
    }
  },
  "cells": [
    {
      "cell_type": "markdown",
      "metadata": {
        "id": "view-in-github",
        "colab_type": "text"
      },
      "source": [
        "<a href=\"https://colab.research.google.com/github/themattinthehatt/Caltech_DATASAI_Neuroscience_23/blob/generative/07_17_23_day6_generative_models/code/diy_notebooks/Caltech_2023_IBL_GLM_HMM.ipynb\" target=\"_parent\"><img src=\"https://colab.research.google.com/assets/colab-badge.svg\" alt=\"Open In Colab\"/></a>"
      ]
    },
    {
      "cell_type": "markdown",
      "source": [
        "# GLM-HMM for IBL choice data\n",
        "This notebook contains code to:\n",
        "* load choice data for a single subject\n",
        "* fit a GLM-HMM\n",
        "* plot GLM-HMM results"
      ],
      "metadata": {
        "id": "9kbd09MZ1JKt"
      }
    },
    {
      "cell_type": "markdown",
      "source": [
        "# Install libraries"
      ],
      "metadata": {
        "id": "uQCKay5XniAx"
      }
    },
    {
      "cell_type": "code",
      "execution_count": 63,
      "metadata": {
        "colab": {
          "base_uri": "https://localhost:8080/"
        },
        "id": "ept19XwVWH9u",
        "outputId": "c9989ae7-cc97-4e2e-983e-dada956edad4"
      },
      "outputs": [
        {
          "output_type": "stream",
          "name": "stdout",
          "text": [
            "Collecting git+https://github.com/zashwood/ssm.git\n",
            "  Cloning https://github.com/zashwood/ssm.git to /tmp/pip-req-build-h84rew_p\n",
            "  Running command git clone --filter=blob:none --quiet https://github.com/zashwood/ssm.git /tmp/pip-req-build-h84rew_p\n",
            "  Resolved https://github.com/zashwood/ssm.git to commit e9b408b79e2ab22a05ca93c3a1f78a7dae461992\n",
            "  Preparing metadata (setup.py) ... \u001b[?25l\u001b[?25hdone\n",
            "Requirement already satisfied: future in /usr/local/lib/python3.10/dist-packages (from ssm==0.0.1) (0.18.3)\n",
            "Requirement already satisfied: numpy in /usr/local/lib/python3.10/dist-packages (from ssm==0.0.1) (1.22.4)\n",
            "Requirement already satisfied: scipy in /usr/local/lib/python3.10/dist-packages (from ssm==0.0.1) (1.10.1)\n",
            "Requirement already satisfied: matplotlib in /usr/local/lib/python3.10/dist-packages (from ssm==0.0.1) (3.7.1)\n",
            "Requirement already satisfied: numba in /usr/local/lib/python3.10/dist-packages (from ssm==0.0.1) (0.56.4)\n",
            "Requirement already satisfied: scikit-learn in /usr/local/lib/python3.10/dist-packages (from ssm==0.0.1) (1.2.2)\n",
            "Requirement already satisfied: tqdm in /usr/local/lib/python3.10/dist-packages (from ssm==0.0.1) (4.65.0)\n",
            "Requirement already satisfied: autograd in /usr/local/lib/python3.10/dist-packages (from ssm==0.0.1) (1.6.1)\n",
            "Requirement already satisfied: seaborn in /usr/local/lib/python3.10/dist-packages (from ssm==0.0.1) (0.12.2)\n",
            "Requirement already satisfied: contourpy>=1.0.1 in /usr/local/lib/python3.10/dist-packages (from matplotlib->ssm==0.0.1) (1.1.0)\n",
            "Requirement already satisfied: cycler>=0.10 in /usr/local/lib/python3.10/dist-packages (from matplotlib->ssm==0.0.1) (0.11.0)\n",
            "Requirement already satisfied: fonttools>=4.22.0 in /usr/local/lib/python3.10/dist-packages (from matplotlib->ssm==0.0.1) (4.40.0)\n",
            "Requirement already satisfied: kiwisolver>=1.0.1 in /usr/local/lib/python3.10/dist-packages (from matplotlib->ssm==0.0.1) (1.4.4)\n",
            "Requirement already satisfied: packaging>=20.0 in /usr/local/lib/python3.10/dist-packages (from matplotlib->ssm==0.0.1) (23.1)\n",
            "Requirement already satisfied: pillow>=6.2.0 in /usr/local/lib/python3.10/dist-packages (from matplotlib->ssm==0.0.1) (8.4.0)\n",
            "Requirement already satisfied: pyparsing>=2.3.1 in /usr/local/lib/python3.10/dist-packages (from matplotlib->ssm==0.0.1) (3.1.0)\n",
            "Requirement already satisfied: python-dateutil>=2.7 in /usr/local/lib/python3.10/dist-packages (from matplotlib->ssm==0.0.1) (2.8.2)\n",
            "Requirement already satisfied: llvmlite<0.40,>=0.39.0dev0 in /usr/local/lib/python3.10/dist-packages (from numba->ssm==0.0.1) (0.39.1)\n",
            "Requirement already satisfied: setuptools in /usr/local/lib/python3.10/dist-packages (from numba->ssm==0.0.1) (67.7.2)\n",
            "Requirement already satisfied: joblib>=1.1.1 in /usr/local/lib/python3.10/dist-packages (from scikit-learn->ssm==0.0.1) (1.2.0)\n",
            "Requirement already satisfied: threadpoolctl>=2.0.0 in /usr/local/lib/python3.10/dist-packages (from scikit-learn->ssm==0.0.1) (3.1.0)\n",
            "Requirement already satisfied: pandas>=0.25 in /usr/local/lib/python3.10/dist-packages (from seaborn->ssm==0.0.1) (1.5.3)\n",
            "Requirement already satisfied: pytz>=2020.1 in /usr/local/lib/python3.10/dist-packages (from pandas>=0.25->seaborn->ssm==0.0.1) (2022.7.1)\n",
            "Requirement already satisfied: six>=1.5 in /usr/local/lib/python3.10/dist-packages (from python-dateutil>=2.7->matplotlib->ssm==0.0.1) (1.16.0)\n",
            "Requirement already satisfied: ONE-api in /usr/local/lib/python3.10/dist-packages (2.1.0)\n",
            "Requirement already satisfied: flake8>=3.7.8 in /usr/local/lib/python3.10/dist-packages (from ONE-api) (6.0.0)\n",
            "Requirement already satisfied: numpy>=1.18 in /usr/local/lib/python3.10/dist-packages (from ONE-api) (1.22.4)\n",
            "Requirement already satisfied: pandas>=1.5.0 in /usr/local/lib/python3.10/dist-packages (from ONE-api) (1.5.3)\n",
            "Requirement already satisfied: tqdm>=4.32.1 in /usr/local/lib/python3.10/dist-packages (from ONE-api) (4.65.0)\n",
            "Requirement already satisfied: requests>=2.22.0 in /usr/local/lib/python3.10/dist-packages (from ONE-api) (2.27.1)\n",
            "Requirement already satisfied: iblutil>=1.1.0 in /usr/local/lib/python3.10/dist-packages (from ONE-api) (1.7.0)\n",
            "Requirement already satisfied: packaging in /usr/local/lib/python3.10/dist-packages (from ONE-api) (23.1)\n",
            "Requirement already satisfied: boto3 in /usr/local/lib/python3.10/dist-packages (from ONE-api) (1.28.0)\n",
            "Requirement already satisfied: pyyaml in /usr/local/lib/python3.10/dist-packages (from ONE-api) (6.0)\n",
            "Requirement already satisfied: mccabe<0.8.0,>=0.7.0 in /usr/local/lib/python3.10/dist-packages (from flake8>=3.7.8->ONE-api) (0.7.0)\n",
            "Requirement already satisfied: pycodestyle<2.11.0,>=2.10.0 in /usr/local/lib/python3.10/dist-packages (from flake8>=3.7.8->ONE-api) (2.10.0)\n",
            "Requirement already satisfied: pyflakes<3.1.0,>=3.0.0 in /usr/local/lib/python3.10/dist-packages (from flake8>=3.7.8->ONE-api) (3.0.1)\n",
            "Requirement already satisfied: colorlog>=6.0.0 in /usr/local/lib/python3.10/dist-packages (from iblutil>=1.1.0->ONE-api) (6.7.0)\n",
            "Requirement already satisfied: numba in /usr/local/lib/python3.10/dist-packages (from iblutil>=1.1.0->ONE-api) (0.56.4)\n",
            "Requirement already satisfied: pyarrow in /usr/local/lib/python3.10/dist-packages (from iblutil>=1.1.0->ONE-api) (9.0.0)\n",
            "Requirement already satisfied: python-dateutil>=2.8.1 in /usr/local/lib/python3.10/dist-packages (from pandas>=1.5.0->ONE-api) (2.8.2)\n",
            "Requirement already satisfied: pytz>=2020.1 in /usr/local/lib/python3.10/dist-packages (from pandas>=1.5.0->ONE-api) (2022.7.1)\n",
            "Requirement already satisfied: urllib3<1.27,>=1.21.1 in /usr/local/lib/python3.10/dist-packages (from requests>=2.22.0->ONE-api) (1.26.16)\n",
            "Requirement already satisfied: certifi>=2017.4.17 in /usr/local/lib/python3.10/dist-packages (from requests>=2.22.0->ONE-api) (2023.5.7)\n",
            "Requirement already satisfied: charset-normalizer~=2.0.0 in /usr/local/lib/python3.10/dist-packages (from requests>=2.22.0->ONE-api) (2.0.12)\n",
            "Requirement already satisfied: idna<4,>=2.5 in /usr/local/lib/python3.10/dist-packages (from requests>=2.22.0->ONE-api) (3.4)\n",
            "Requirement already satisfied: botocore<1.32.0,>=1.31.0 in /usr/local/lib/python3.10/dist-packages (from boto3->ONE-api) (1.31.0)\n",
            "Requirement already satisfied: jmespath<2.0.0,>=0.7.1 in /usr/local/lib/python3.10/dist-packages (from boto3->ONE-api) (1.0.1)\n",
            "Requirement already satisfied: s3transfer<0.7.0,>=0.6.0 in /usr/local/lib/python3.10/dist-packages (from boto3->ONE-api) (0.6.1)\n",
            "Requirement already satisfied: six>=1.5 in /usr/local/lib/python3.10/dist-packages (from python-dateutil>=2.8.1->pandas>=1.5.0->ONE-api) (1.16.0)\n",
            "Requirement already satisfied: llvmlite<0.40,>=0.39.0dev0 in /usr/local/lib/python3.10/dist-packages (from numba->iblutil>=1.1.0->ONE-api) (0.39.1)\n",
            "Requirement already satisfied: setuptools in /usr/local/lib/python3.10/dist-packages (from numba->iblutil>=1.1.0->ONE-api) (67.7.2)\n",
            "Requirement already satisfied: ibllib in /usr/local/lib/python3.10/dist-packages (2.23.1)\n",
            "Requirement already satisfied: boto3 in /usr/local/lib/python3.10/dist-packages (from ibllib) (1.28.0)\n",
            "Requirement already satisfied: click>=7.0.0 in /usr/local/lib/python3.10/dist-packages (from ibllib) (8.1.3)\n",
            "Requirement already satisfied: colorlog>=4.0.2 in /usr/local/lib/python3.10/dist-packages (from ibllib) (6.7.0)\n",
            "Requirement already satisfied: flake8>=3.7.8 in /usr/local/lib/python3.10/dist-packages (from ibllib) (6.0.0)\n",
            "Requirement already satisfied: globus-sdk in /usr/local/lib/python3.10/dist-packages (from ibllib) (3.23.0)\n",
            "Requirement already satisfied: graphviz in /usr/local/lib/python3.10/dist-packages (from ibllib) (0.20.1)\n",
            "Requirement already satisfied: matplotlib>=3.0.3 in /usr/local/lib/python3.10/dist-packages (from ibllib) (3.7.1)\n",
            "Requirement already satisfied: mtscomp>=1.0.1 in /usr/local/lib/python3.10/dist-packages (from ibllib) (1.0.2)\n",
            "Requirement already satisfied: numba>=0.56 in /usr/local/lib/python3.10/dist-packages (from ibllib) (0.56.4)\n",
            "Requirement already satisfied: numpy>=1.18 in /usr/local/lib/python3.10/dist-packages (from ibllib) (1.22.4)\n",
            "Requirement already satisfied: nptdms in /usr/local/lib/python3.10/dist-packages (from ibllib) (1.7.0)\n",
            "Requirement already satisfied: opencv-python-headless in /usr/local/lib/python3.10/dist-packages (from ibllib) (4.7.0.72)\n",
            "Requirement already satisfied: pandas in /usr/local/lib/python3.10/dist-packages (from ibllib) (1.5.3)\n",
            "Requirement already satisfied: phylib>=2.4 in /usr/local/lib/python3.10/dist-packages (from ibllib) (2.4.3)\n",
            "Requirement already satisfied: pyarrow in /usr/local/lib/python3.10/dist-packages (from ibllib) (9.0.0)\n",
            "Requirement already satisfied: pynrrd>=0.4.0 in /usr/local/lib/python3.10/dist-packages (from ibllib) (1.0.0)\n",
            "Requirement already satisfied: pytest in /usr/local/lib/python3.10/dist-packages (from ibllib) (7.2.2)\n",
            "Requirement already satisfied: requests>=2.22.0 in /usr/local/lib/python3.10/dist-packages (from ibllib) (2.27.1)\n",
            "Requirement already satisfied: scikit-learn>=0.22.1 in /usr/local/lib/python3.10/dist-packages (from ibllib) (1.2.2)\n",
            "Requirement already satisfied: scipy>=1.7.0 in /usr/local/lib/python3.10/dist-packages (from ibllib) (1.10.1)\n",
            "Requirement already satisfied: seaborn>=0.9.0 in /usr/local/lib/python3.10/dist-packages (from ibllib) (0.12.2)\n",
            "Requirement already satisfied: tqdm>=4.32.1 in /usr/local/lib/python3.10/dist-packages (from ibllib) (4.65.0)\n",
            "Requirement already satisfied: ibl-neuropixel>=0.4.0 in /usr/local/lib/python3.10/dist-packages (from ibllib) (0.6.2)\n",
            "Requirement already satisfied: iblutil>=1.5.0 in /usr/local/lib/python3.10/dist-packages (from ibllib) (1.7.0)\n",
            "Requirement already satisfied: labcams in /usr/local/lib/python3.10/dist-packages (from ibllib) (0.6.5)\n",
            "Requirement already satisfied: ONE-api>=2.0 in /usr/local/lib/python3.10/dist-packages (from ibllib) (2.1.0)\n",
            "Requirement already satisfied: slidingRP>=1.0.0 in /usr/local/lib/python3.10/dist-packages (from ibllib) (1.0.0)\n",
            "Requirement already satisfied: wfield>=0.3.6 in /usr/local/lib/python3.10/dist-packages (from ibllib) (0.3.7)\n",
            "Requirement already satisfied: mccabe<0.8.0,>=0.7.0 in /usr/local/lib/python3.10/dist-packages (from flake8>=3.7.8->ibllib) (0.7.0)\n",
            "Requirement already satisfied: pycodestyle<2.11.0,>=2.10.0 in /usr/local/lib/python3.10/dist-packages (from flake8>=3.7.8->ibllib) (2.10.0)\n",
            "Requirement already satisfied: pyflakes<3.1.0,>=3.0.0 in /usr/local/lib/python3.10/dist-packages (from flake8>=3.7.8->ibllib) (3.0.1)\n",
            "Requirement already satisfied: joblib in /usr/local/lib/python3.10/dist-packages (from ibl-neuropixel>=0.4.0->ibllib) (1.2.0)\n",
            "Requirement already satisfied: contourpy>=1.0.1 in /usr/local/lib/python3.10/dist-packages (from matplotlib>=3.0.3->ibllib) (1.1.0)\n",
            "Requirement already satisfied: cycler>=0.10 in /usr/local/lib/python3.10/dist-packages (from matplotlib>=3.0.3->ibllib) (0.11.0)\n",
            "Requirement already satisfied: fonttools>=4.22.0 in /usr/local/lib/python3.10/dist-packages (from matplotlib>=3.0.3->ibllib) (4.40.0)\n",
            "Requirement already satisfied: kiwisolver>=1.0.1 in /usr/local/lib/python3.10/dist-packages (from matplotlib>=3.0.3->ibllib) (1.4.4)\n",
            "Requirement already satisfied: packaging>=20.0 in /usr/local/lib/python3.10/dist-packages (from matplotlib>=3.0.3->ibllib) (23.1)\n",
            "Requirement already satisfied: pillow>=6.2.0 in /usr/local/lib/python3.10/dist-packages (from matplotlib>=3.0.3->ibllib) (8.4.0)\n",
            "Requirement already satisfied: pyparsing>=2.3.1 in /usr/local/lib/python3.10/dist-packages (from matplotlib>=3.0.3->ibllib) (3.1.0)\n",
            "Requirement already satisfied: python-dateutil>=2.7 in /usr/local/lib/python3.10/dist-packages (from matplotlib>=3.0.3->ibllib) (2.8.2)\n",
            "Requirement already satisfied: llvmlite<0.40,>=0.39.0dev0 in /usr/local/lib/python3.10/dist-packages (from numba>=0.56->ibllib) (0.39.1)\n",
            "Requirement already satisfied: setuptools in /usr/local/lib/python3.10/dist-packages (from numba>=0.56->ibllib) (67.7.2)\n",
            "Requirement already satisfied: pyyaml in /usr/local/lib/python3.10/dist-packages (from ONE-api>=2.0->ibllib) (6.0)\n",
            "Requirement already satisfied: pytz>=2020.1 in /usr/local/lib/python3.10/dist-packages (from pandas->ibllib) (2022.7.1)\n",
            "Requirement already satisfied: dask in /usr/local/lib/python3.10/dist-packages (from phylib>=2.4->ibllib) (2022.12.1)\n",
            "Requirement already satisfied: toolz in /usr/local/lib/python3.10/dist-packages (from phylib>=2.4->ibllib) (0.12.0)\n",
            "Requirement already satisfied: nptyping in /usr/local/lib/python3.10/dist-packages (from pynrrd>=0.4.0->ibllib) (2.5.0)\n",
            "Requirement already satisfied: typing-extensions in /usr/local/lib/python3.10/dist-packages (from pynrrd>=0.4.0->ibllib) (4.6.3)\n",
            "Requirement already satisfied: urllib3<1.27,>=1.21.1 in /usr/local/lib/python3.10/dist-packages (from requests>=2.22.0->ibllib) (1.26.16)\n",
            "Requirement already satisfied: certifi>=2017.4.17 in /usr/local/lib/python3.10/dist-packages (from requests>=2.22.0->ibllib) (2023.5.7)\n",
            "Requirement already satisfied: charset-normalizer~=2.0.0 in /usr/local/lib/python3.10/dist-packages (from requests>=2.22.0->ibllib) (2.0.12)\n",
            "Requirement already satisfied: idna<4,>=2.5 in /usr/local/lib/python3.10/dist-packages (from requests>=2.22.0->ibllib) (3.4)\n",
            "Requirement already satisfied: threadpoolctl>=2.0.0 in /usr/local/lib/python3.10/dist-packages (from scikit-learn>=0.22.1->ibllib) (3.1.0)\n",
            "Requirement already satisfied: pims in /usr/local/lib/python3.10/dist-packages (from wfield>=0.3.6->ibllib) (0.6.1)\n",
            "Requirement already satisfied: opencv-python in /usr/local/lib/python3.10/dist-packages (from wfield>=0.3.6->ibllib) (4.7.0.72)\n",
            "Requirement already satisfied: tifffile in /usr/local/lib/python3.10/dist-packages (from wfield>=0.3.6->ibllib) (2023.4.12)\n",
            "Requirement already satisfied: pyqt5 in /usr/local/lib/python3.10/dist-packages (from wfield>=0.3.6->ibllib) (5.15.9)\n",
            "Requirement already satisfied: pyqtgraph in /usr/local/lib/python3.10/dist-packages (from wfield>=0.3.6->ibllib) (0.13.3)\n",
            "Requirement already satisfied: scikit-video in /usr/local/lib/python3.10/dist-packages (from wfield>=0.3.6->ibllib) (1.1.11)\n",
            "Requirement already satisfied: scikit-image in /usr/local/lib/python3.10/dist-packages (from wfield>=0.3.6->ibllib) (0.19.3)\n",
            "Requirement already satisfied: pyserial in /usr/local/lib/python3.10/dist-packages (from wfield>=0.3.6->ibllib) (3.5)\n",
            "Requirement already satisfied: natsort in /usr/local/lib/python3.10/dist-packages (from wfield>=0.3.6->ibllib) (8.3.1)\n",
            "Requirement already satisfied: pyqtwebengine in /usr/local/lib/python3.10/dist-packages (from wfield>=0.3.6->ibllib) (5.15.6)\n",
            "Requirement already satisfied: botocore<1.32.0,>=1.31.0 in /usr/local/lib/python3.10/dist-packages (from boto3->ibllib) (1.31.0)\n",
            "Requirement already satisfied: jmespath<2.0.0,>=0.7.1 in /usr/local/lib/python3.10/dist-packages (from boto3->ibllib) (1.0.1)\n",
            "Requirement already satisfied: s3transfer<0.7.0,>=0.6.0 in /usr/local/lib/python3.10/dist-packages (from boto3->ibllib) (0.6.1)\n",
            "Requirement already satisfied: pyjwt[crypto]<3.0.0,>=2.0.0 in /usr/local/lib/python3.10/dist-packages (from globus-sdk->ibllib) (2.7.0)\n",
            "Requirement already satisfied: cryptography!=3.4.0,>=3.3.1 in /usr/local/lib/python3.10/dist-packages (from globus-sdk->ibllib) (41.0.1)\n",
            "Requirement already satisfied: pyzmq in /usr/local/lib/python3.10/dist-packages (from labcams->ibllib) (23.2.1)\n",
            "Requirement already satisfied: attrs>=19.2.0 in /usr/local/lib/python3.10/dist-packages (from pytest->ibllib) (23.1.0)\n",
            "Requirement already satisfied: iniconfig in /usr/local/lib/python3.10/dist-packages (from pytest->ibllib) (2.0.0)\n",
            "Requirement already satisfied: pluggy<2.0,>=0.12 in /usr/local/lib/python3.10/dist-packages (from pytest->ibllib) (1.2.0)\n",
            "Requirement already satisfied: exceptiongroup>=1.0.0rc8 in /usr/local/lib/python3.10/dist-packages (from pytest->ibllib) (1.1.1)\n",
            "Requirement already satisfied: tomli>=1.0.0 in /usr/local/lib/python3.10/dist-packages (from pytest->ibllib) (2.0.1)\n",
            "Requirement already satisfied: cffi>=1.12 in /usr/local/lib/python3.10/dist-packages (from cryptography!=3.4.0,>=3.3.1->globus-sdk->ibllib) (1.15.1)\n",
            "Requirement already satisfied: six>=1.5 in /usr/local/lib/python3.10/dist-packages (from python-dateutil>=2.7->matplotlib>=3.0.3->ibllib) (1.16.0)\n",
            "Requirement already satisfied: cloudpickle>=1.1.1 in /usr/local/lib/python3.10/dist-packages (from dask->phylib>=2.4->ibllib) (2.2.1)\n",
            "Requirement already satisfied: fsspec>=0.6.0 in /usr/local/lib/python3.10/dist-packages (from dask->phylib>=2.4->ibllib) (2023.6.0)\n",
            "Requirement already satisfied: partd>=0.3.10 in /usr/local/lib/python3.10/dist-packages (from dask->phylib>=2.4->ibllib) (1.4.0)\n",
            "Requirement already satisfied: imageio in /usr/local/lib/python3.10/dist-packages (from pims->wfield>=0.3.6->ibllib) (2.25.1)\n",
            "Requirement already satisfied: slicerator>=0.9.8 in /usr/local/lib/python3.10/dist-packages (from pims->wfield>=0.3.6->ibllib) (1.1.0)\n",
            "Requirement already satisfied: PyQt5-sip<13,>=12.11 in /usr/local/lib/python3.10/dist-packages (from pyqt5->wfield>=0.3.6->ibllib) (12.12.1)\n",
            "Requirement already satisfied: PyQt5-Qt5>=5.15.2 in /usr/local/lib/python3.10/dist-packages (from pyqt5->wfield>=0.3.6->ibllib) (5.15.2)\n",
            "Requirement already satisfied: PyQtWebEngine-Qt5>=5.15.0 in /usr/local/lib/python3.10/dist-packages (from pyqtwebengine->wfield>=0.3.6->ibllib) (5.15.2)\n",
            "Requirement already satisfied: networkx>=2.2 in /usr/local/lib/python3.10/dist-packages (from scikit-image->wfield>=0.3.6->ibllib) (3.1)\n",
            "Requirement already satisfied: PyWavelets>=1.1.1 in /usr/local/lib/python3.10/dist-packages (from scikit-image->wfield>=0.3.6->ibllib) (1.4.1)\n",
            "Requirement already satisfied: pycparser in /usr/local/lib/python3.10/dist-packages (from cffi>=1.12->cryptography!=3.4.0,>=3.3.1->globus-sdk->ibllib) (2.21)\n",
            "Requirement already satisfied: locket in /usr/local/lib/python3.10/dist-packages (from partd>=0.3.10->dask->phylib>=2.4->ibllib) (1.0.0)\n",
            "Requirement already satisfied: psychofit in /usr/local/lib/python3.10/dist-packages (1.0.0.post0)\n",
            "Requirement already satisfied: numpy in /usr/local/lib/python3.10/dist-packages (from psychofit) (1.22.4)\n",
            "Requirement already satisfied: scipy in /usr/local/lib/python3.10/dist-packages (from psychofit) (1.10.1)\n"
          ]
        }
      ],
      "source": [
        "# install glm-hmm core\n",
        "! pip install git+https://github.com/zashwood/ssm.git\n",
        "\n",
        "# install IBL libraries\n",
        "! pip install ONE-api\n",
        "! pip install ibllib\n",
        "! pip install psychofit"
      ]
    },
    {
      "cell_type": "markdown",
      "source": [
        "# Import libraries"
      ],
      "metadata": {
        "id": "90o9qU7poA1A"
      }
    },
    {
      "cell_type": "code",
      "source": [
        "from brainbox.io.one import SessionLoader\n",
        "import matplotlib.pyplot as plt\n",
        "import numpy as np\n",
        "import pandas as pd\n",
        "import psychofit as psy\n",
        "import seaborn as sns\n",
        "import ssm"
      ],
      "metadata": {
        "id": "mD7CS4izoDN8"
      },
      "execution_count": 64,
      "outputs": []
    },
    {
      "cell_type": "markdown",
      "source": [
        "# Configure ONE"
      ],
      "metadata": {
        "id": "17lSXC8lepTr"
      }
    },
    {
      "cell_type": "code",
      "source": [
        "from one.api import ONE\n",
        "ONE.setup(base_url='https://openalyx.internationalbrainlab.org', silent=True)\n",
        "one = ONE(password='international')"
      ],
      "metadata": {
        "id": "Cs3m09bKeyWO"
      },
      "execution_count": 65,
      "outputs": []
    },
    {
      "cell_type": "markdown",
      "source": [
        "# Helper functions"
      ],
      "metadata": {
        "id": "O3SOQnpzfpfp"
      }
    },
    {
      "cell_type": "code",
      "source": [
        "def create_stim_vector(stim_left, stim_right):\n",
        "    # want stim_right - stim_left\n",
        "    # Replace NaNs with 0:\n",
        "    stim_left = np.nan_to_num(stim_left, nan=0)\n",
        "    stim_right = np.nan_to_num(stim_right, nan=0)\n",
        "    # now get 1D stim\n",
        "    signed_contrast = stim_right - stim_left\n",
        "    return signed_contrast\n",
        "\n",
        "\n",
        "def create_previous_choice_vector(choice):\n",
        "    ''' choice: choice vector of size T\n",
        "        previous_choice : vector of size T with previous choice made by\n",
        "        animal - output is in {0, 1}, where 0 corresponds to a previous left\n",
        "        choice; 1 corresponds to right.\n",
        "        If the previous choice was a violation, replace this with the choice\n",
        "        on the previous trial that was not a violation.\n",
        "        locs_mapping: array of size (~num_viols)x2, where the entry in\n",
        "        column 1 is the location in the previous choice vector that was a\n",
        "        remapping due to a violation and the\n",
        "        entry in column 2 is the location in the previous choice vector that\n",
        "        this location was remapped to\n",
        "    '''\n",
        "    previous_choice = np.hstack([np.array(choice[0]), choice])[:-1]\n",
        "    locs_to_update = np.where(previous_choice == -1)[0]\n",
        "    locs_with_choice = np.where(previous_choice != -1)[0]\n",
        "    loc_first_choice = locs_with_choice[0]\n",
        "    locs_mapping = np.zeros((len(locs_to_update) - loc_first_choice, 2),\n",
        "                            dtype='int')\n",
        "\n",
        "    for i, loc in enumerate(locs_to_update):\n",
        "        if loc < loc_first_choice:\n",
        "            # since no previous choice, bernoulli sample: (not output of\n",
        "            # bernoulli rvs is in {1, 2})\n",
        "            previous_choice[loc] = bernoulli.rvs(0.5, 1) - 1\n",
        "        else:\n",
        "            # find nearest loc that has a previous choice value that is not\n",
        "            # -1, and that is earlier than current trial\n",
        "            potential_matches = locs_with_choice[\n",
        "                np.where(locs_with_choice < loc)]\n",
        "            absolute_val_diffs = np.abs(loc - potential_matches)\n",
        "            absolute_val_diffs_ind = absolute_val_diffs.argmin()\n",
        "            nearest_loc = potential_matches[absolute_val_diffs_ind]\n",
        "            locs_mapping[i - loc_first_choice, 0] = int(loc)\n",
        "            locs_mapping[i - loc_first_choice, 1] = int(nearest_loc)\n",
        "            previous_choice[loc] = previous_choice[nearest_loc]\n",
        "    assert len(np.unique(\n",
        "        previous_choice)) <= 2, \"previous choice should be in {0, 1}; \" + str(\n",
        "        np.unique(previous_choice))\n",
        "    return previous_choice, locs_mapping\n",
        "\n",
        "\n",
        "def create_wsls_covariate(previous_choice, success, locs_mapping):\n",
        "    '''\n",
        "    inputs:\n",
        "    success: vector of size T, entries are in {-1, 1} and 0 corresponds to\n",
        "    failure, 1 corresponds to success\n",
        "    previous_choice: vector of size T, entries are in {0, 1} and 0\n",
        "    corresponds to left choice, 1 corresponds to right choice\n",
        "    locs_mapping: location remapping dictionary due to violations\n",
        "    output:\n",
        "    wsls: vector of size T, entries are in {-1, 1}.  1 corresponds to\n",
        "    previous choice = right and success OR previous choice = left and\n",
        "    failure; -1 corresponds to\n",
        "    previous choice = left and success OR previous choice = right and failure\n",
        "    '''\n",
        "    # remap previous choice vals to {-1, 1}\n",
        "    remapped_previous_choice = 2 * previous_choice - 1\n",
        "    previous_reward = np.hstack([np.array(success[0]), success])[:-1]\n",
        "    # Now need to go through and update previous reward to correspond to\n",
        "    # same trial as previous choice:\n",
        "    for i, loc in enumerate(locs_mapping[:, 0]):\n",
        "        nearest_loc = locs_mapping[i, 1]\n",
        "        previous_reward[loc] = previous_reward[nearest_loc]\n",
        "    wsls = previous_reward * remapped_previous_choice\n",
        "    assert len(np.unique(wsls)) == 2, \"wsls should be in {-1, 1}\"\n",
        "    return wsls\n",
        "\n",
        "\n",
        "def remap_choice_vals(choice):\n",
        "    # raw choice vector has CW = 1 (correct response for stim on left),\n",
        "    # CCW = -1 (correct response for stim on right) and viol = 0.  Let's\n",
        "    # remap so that CW = 0, CCw = 1, and viol = -1\n",
        "    choice_mapping = {1: 0, -1: 1, 0: -1}\n",
        "    new_choice_vector = [choice_mapping[old_choice] for old_choice in choice]\n",
        "    return new_choice_vector\n",
        "\n",
        "\n",
        "def create_design_mat(choice, stim_left, stim_right, rewarded):\n",
        "    # Create unnormalized_inpt: with first column = stim_right - stim_left,\n",
        "    # second column as past choice, third column as WSLS\n",
        "    stim = create_stim_vector(stim_left, stim_right)\n",
        "    T = len(stim)\n",
        "    design_mat = np.zeros((T, 4))\n",
        "    design_mat[:, 0] = stim\n",
        "    # bias\n",
        "    design_mat[:, 1] = 1\n",
        "    # make choice vector so that correct response for stim>0 is choice =1\n",
        "    # and is 0 for stim <0 (viol is mapped to -1)\n",
        "    choice = remap_choice_vals(choice)\n",
        "    # create past choice vector:\n",
        "    previous_choice, locs_mapping = create_previous_choice_vector(choice)\n",
        "    # create wsls vector:\n",
        "    wsls = create_wsls_covariate(previous_choice, rewarded, locs_mapping)\n",
        "    # map previous choice to {-1,1}\n",
        "    design_mat[:, 2] = 2 * previous_choice - 1\n",
        "    design_mat[:, 3] = wsls\n",
        "    return design_mat"
      ],
      "metadata": {
        "id": "y-UmKyFOfrnP"
      },
      "execution_count": 66,
      "outputs": []
    },
    {
      "cell_type": "markdown",
      "source": [
        "# Load and format data"
      ],
      "metadata": {
        "id": "e9tNWaNvdgga"
      }
    },
    {
      "cell_type": "code",
      "source": [
        "sess = one.search(subject='KS014')\n",
        "# sess = one.search(subject='DY_014')\n",
        "\n",
        "print(f'{len(sess)} total sessions')\n",
        "\n",
        "trials_list = []\n",
        "for eid in sess:  # start with most recent sessions\n",
        "    print(f'Collecting data for {eid}')\n",
        "    # build session loader\n",
        "    sess_loader = SessionLoader(one=one, eid=eid)\n",
        "    # load trials dataframe\n",
        "    try:\n",
        "        sess_loader.load_trials()\n",
        "    except BaseException:\n",
        "        print('Error loading trials')\n",
        "        continue\n",
        "    trials = sess_loader.trials\n",
        "    # only fit to trials in biased blocks\n",
        "    trials_to_study = trials.probabilityLeft != 1.5\n",
        "    # only use sessions with lots of trials\n",
        "    if np.sum(trials_to_study) < 200:\n",
        "      print(f'Session has too few trials ({np.sum(trials_to_study)})')\n",
        "      continue\n",
        "    # animal must make a choice on most trials\n",
        "    n_trials_no_resp = len(np.where(trials.choice[trials_to_study] == 0)[0])\n",
        "    if n_trials_no_resp >= 10:  # != 0:\n",
        "        print(f'Session has too many no-response trials ({n_trials_no_resp})')\n",
        "        continue\n",
        "    trials_list.append(trials[trials_to_study])\n",
        "\n",
        "print(f'Found {len(trials_list)} sessions')"
      ],
      "metadata": {
        "colab": {
          "base_uri": "https://localhost:8080/"
        },
        "id": "4B5Ys5LXEfkn",
        "outputId": "3eee9f49-6bbd-4d58-c77a-355f807424dc"
      },
      "execution_count": 158,
      "outputs": [
        {
          "output_type": "stream",
          "name": "stdout",
          "text": [
            "54 total sessions\n",
            "Collecting data for 470ee722-20be-4819-9652-45cff548ca5e\n",
            "Error loading trials\n",
            "Collecting data for b9c205c3-feac-485b-a89d-afc96d9cb280\n"
          ]
        },
        {
          "output_type": "stream",
          "name": "stderr",
          "text": [
            "WARNING:one.api:local md5 mismatch on dataset: cortexlab/Subjects/KS014/2019-12-07/001/alf/_ibl_trials.goCueTrigger_times.npy\n",
            "/root/Downloads/ONE/openalyx.internationalbrainlab.org/cortexlab/Subjects/KS014/2019-12-07/001/alf/_ibl_trials.goCueTrigger_times.npy: 100%|██████████| 5.38k/5.38k [00:00<00:00, 60.8kB/s]\n"
          ]
        },
        {
          "output_type": "stream",
          "name": "stdout",
          "text": [
            "Collecting data for c660af59-5803-4846-b36e-ab61afebe081\n",
            "Error loading trials\n",
            "Collecting data for e1931de1-cf7b-49af-af33-2ade15e8abe7\n"
          ]
        },
        {
          "output_type": "stream",
          "name": "stderr",
          "text": [
            "WARNING:one.api:local md5 mismatch on dataset: cortexlab/Subjects/KS014/2019-12-03/001/alf/_ibl_trials.goCueTrigger_times.npy\n"
          ]
        },
        {
          "output_type": "stream",
          "name": "stdout",
          "text": [
            "Collecting data for 9102a080-f884-4c0a-b7a9-b306eb47201b\n",
            "Error loading trials\n",
            "Collecting data for 16693458-0801-4d35-a3f1-9115c7e5acfd\n"
          ]
        },
        {
          "output_type": "stream",
          "name": "stderr",
          "text": [
            "/root/Downloads/ONE/openalyx.internationalbrainlab.org/cortexlab/Subjects/KS014/2019-12-03/001/alf/_ibl_trials.goCueTrigger_times.npy: 100%|██████████| 4.38k/4.38k [00:00<00:00, 41.0kB/s]\n"
          ]
        },
        {
          "output_type": "stream",
          "name": "stdout",
          "text": [
            "Collecting data for ea436c57-944a-4cbd-af90-31e3c35e9116\n",
            "Error loading trials\n",
            "Collecting data for f4542bdd-9e51-4bff-9b56-915664a3a48a\n",
            "Error loading trials\n",
            "Collecting data for 55cbc068-dc37-4e5a-85dc-c7763b508049\n",
            "Error loading trials\n",
            "Collecting data for ef924b7f-fa72-4afd-9fe8-4186ee5ed4f9\n",
            "Error loading trials\n",
            "Collecting data for b84a61d2-8e1e-461a-bff1-16b44dc6cea3\n",
            "Error loading trials\n",
            "Collecting data for faff72fd-a15f-4b12-9f65-7746ae51be61\n",
            "Error loading trials\n",
            "Collecting data for 0cf783d4-770a-4953-92bb-5de03f3b389e\n",
            "Error loading trials\n",
            "Collecting data for 5cc6aeb7-f1e8-4e23-a286-1345d9883518\n",
            "Error loading trials\n",
            "Collecting data for d383b2b7-cb1a-4f25-a101-8e9dffc75a2c\n",
            "Error loading trials\n",
            "Collecting data for 21d3bbdf-7cb1-4a86-bd7d-16d88c0e38b1\n",
            "Error loading trials\n",
            "Collecting data for 6ec717b1-a8ac-466a-8a71-01c652ae7cce\n",
            "Error loading trials\n",
            "Collecting data for 1c5ae8dc-edd4-4ebd-9883-3d8fea79804f\n",
            "Error loading trials\n",
            "Collecting data for 8028df72-7f65-4609-9e6a-354f08648ae1\n",
            "Error loading trials\n",
            "Collecting data for e65de8fe-5b69-48fb-81d9-10abda28c3a6\n",
            "Error loading trials\n",
            "Collecting data for 94535612-5064-40aa-aa05-8c08c2fa618a\n",
            "Error loading trials\n",
            "Collecting data for 29e74e5c-9557-41d6-966d-e9bac6e932fa\n",
            "Error loading trials\n",
            "Collecting data for 9ecc2335-9a23-40c2-ae0b-c4087818bfd6\n",
            "Error loading trials\n",
            "Collecting data for 1e6c2fed-8e6f-4ff6-b3ff-b982425ed8c6\n",
            "Error loading trials\n",
            "Collecting data for 6dda1b46-afe3-48ee-918b-c308ba7dd519\n",
            "Error loading trials\n",
            "Collecting data for aed565c2-8f5b-433f-bd30-ed45aedc33a0\n",
            "Error loading trials\n",
            "Collecting data for f55e0699-ebc3-447e-a4ff-d0ecf73f3018\n",
            "Error loading trials\n",
            "Collecting data for b9b8fa2a-8949-4f79-ab6a-c90a3d068b55\n",
            "Error loading trials\n",
            "Collecting data for 9a926b27-6801-4fa4-a362-ebe916ee9009\n",
            "Error loading trials\n",
            "Collecting data for 468d2123-fbdc-4b8d-bcd2-c72bf345e408\n",
            "Error loading trials\n",
            "Collecting data for 1114aa6e-a49b-4de7-9a9b-e6fc48ca5d46\n",
            "Error loading trials\n",
            "Collecting data for c0ba910e-3e8b-4596-b509-0e28a15c332b\n",
            "Error loading trials\n",
            "Collecting data for 75c51f31-aa98-40e8-b020-e55d7039b749\n",
            "Error loading trials\n",
            "Collecting data for 73654e36-9546-463f-8cdf-df6b6e477054\n",
            "Error loading trials\n",
            "Collecting data for cdcba3dc-dd35-4dec-9a90-19e31f4b9d0b\n",
            "Error loading trials\n",
            "Collecting data for 6a6442d1-dd7d-4717-b7b1-5874aefbd6fc\n",
            "Error loading trials\n",
            "Collecting data for 1ec17248-33a9-4d10-b028-de74f7eb3b71\n",
            "Error loading trials\n",
            "Collecting data for 7330f879-8dfc-4344-af84-cd422199bddc\n",
            "Error loading trials\n",
            "Collecting data for c4a4d9d8-a5f6-48b6-b4b6-a23f3f76e9ee\n",
            "Error loading trials\n",
            "Collecting data for 616e7cfa-ba4d-4fbf-9400-dc0640f8238f\n",
            "Error loading trials\n",
            "Collecting data for 5c70d299-bad2-477e-9643-841025919846\n",
            "Error loading trials\n",
            "Collecting data for 6270ad27-4330-4a03-bf1e-c9168e6ff82f\n",
            "Error loading trials\n",
            "Collecting data for fceaa0ce-400b-4a1d-a417-d0fe08da060f\n",
            "Error loading trials\n",
            "Collecting data for 5fc23b60-485d-4fab-8c1f-d2a0aa7af85b\n",
            "Error loading trials\n",
            "Collecting data for ae3605cd-4074-4d93-9350-14894eb60c7a\n",
            "Error loading trials\n",
            "Collecting data for 1ed356e3-0fb4-4a44-aed8-25737a971a14\n",
            "Error loading trials\n",
            "Collecting data for 848b81c0-3713-4cb6-abd7-704930593c00\n",
            "Error loading trials\n",
            "Collecting data for 2bfc2891-7925-4871-95b1-182187ecc857\n",
            "Error loading trials\n",
            "Collecting data for 431e7140-8444-4d4d-aca0-1526a2ac136a\n",
            "Error loading trials\n",
            "Collecting data for 604e1da8-1e3d-41c4-a29e-21d573a0b84c\n",
            "Error loading trials\n",
            "Collecting data for a2f50e32-0f97-4696-b4f1-7204fa57ac1e\n",
            "Error loading trials\n",
            "Collecting data for 4eb68d4a-f268-4ee0-8d55-38ece00b9def\n",
            "Error loading trials\n",
            "Collecting data for 32d31602-9fd1-4617-beed-82e172b34fdd\n",
            "Error loading trials\n",
            "Collecting data for cb876e89-8a9d-43e0-88d1-7c8e39bc6025\n",
            "Error loading trials\n",
            "Found 3 sessions\n"
          ]
        }
      ]
    },
    {
      "cell_type": "code",
      "source": [
        "# let's look at the psychometric curve of the animal for the unbiased block\n",
        "from brainbox.behavior.training import get_signed_contrast, compute_performance, compute_psychometric\n",
        "\n",
        "trials_concat = pd.concat(trials_list)\n",
        "\n",
        "signed_contrast = get_signed_contrast(trials_concat)\n",
        "contrasts_fit = np.arange(-100, 100)\n",
        "\n",
        "prob_right_20, contrasts_20, _ = compute_performance(trials_concat, signed_contrast=signed_contrast, block=0.2, prob_right=True)\n",
        "out_20 = compute_psychometric(trials_concat, signed_contrast=signed_contrast, block=0.2, plotting=True, compute_ci=False, alpha=0.32)\n",
        "prob_right_fit_20 = psy.erf_psycho_2gammas(out_20, contrasts_fit)\n",
        "\n",
        "prob_right_80, contrasts_80, _ = compute_performance(trials_concat, signed_contrast=signed_contrast, block=0.8, prob_right=True)\n",
        "out_80 = compute_psychometric(trials_concat, signed_contrast=signed_contrast, block=0.8, plotting=True, compute_ci=False, alpha=0.32)\n",
        "prob_right_fit_80 = psy.erf_psycho_2gammas(out_80, contrasts_fit)\n",
        "\n",
        "cmap = sns.diverging_palette(20, 220, n=3, center=\"dark\")\n",
        "\n",
        "fig, ax = plt.subplots(figsize=(4, 3))\n",
        "fit_20 = ax.plot(contrasts_fit, prob_right_fit_20, color=cmap[0])\n",
        "data_20 = ax.scatter(contrasts_20, prob_right_20, color=cmap[0])\n",
        "fit_80 = ax.plot(contrasts_fit, prob_right_fit_80, color=cmap[2])\n",
        "data_80 = ax.scatter(contrasts_80, prob_right_80, color=cmap[2])\n",
        "\n",
        "ax.legend(\n",
        "    [fit_20[0], data_20, fit_80[0], data_80],\n",
        "    ['p_left=0.2 fit', 'p_left=0.2 data', 'p_left=0.8 fit', 'p_left=0.8 data'],\n",
        "    loc='upper left'\n",
        ")\n",
        "ax.set_ylim(-0.05, 1.05)\n",
        "ax.set_ylabel('Probability choosing right')\n",
        "ax.set_xlabel('Contrasts')\n",
        "plt.show()"
      ],
      "metadata": {
        "colab": {
          "base_uri": "https://localhost:8080/",
          "height": 311
        },
        "id": "UGNIZQMUFBFb",
        "outputId": "fcec3760-80f4-41a4-e305-763001d85843"
      },
      "execution_count": 159,
      "outputs": [
        {
          "output_type": "display_data",
          "data": {
            "text/plain": [
              "<Figure size 400x300 with 1 Axes>"
            ],
            "image/png": "[encoded data removed]"
          },
          "metadata": {}
        }
      ]
    },
    {
      "cell_type": "code",
      "source": [
        "# create model inputs/outputs as a list of arrays\n",
        "\n",
        "Xs = []\n",
        "ys = []\n",
        "masks = []\n",
        "for trials in trials_list:\n",
        "\n",
        "    # create input to GLM-HMM - array of shape (T, 3)\n",
        "    stim_left = trials.contrastLeft.to_numpy()\n",
        "    stim_right = trials.contrastRight.to_numpy()\n",
        "    choices = trials.choice.to_numpy()\n",
        "    rewards = trials.feedbackType.to_numpy()\n",
        "\n",
        "    X = create_design_mat(stim_left=stim_left, stim_right=stim_right, choice=choices, rewarded=rewards)\n",
        "    Xs.append(X)\n",
        "\n",
        "    # create target variable of GLM-HMM - array of shape (T, 1)\n",
        "    choices_remapped = remap_choice_vals(choices)\n",
        "    y = np.array(choices_remapped)[:, None]  # shape (T,) -> (T, 1)\n",
        "    ys.append(y)\n",
        "\n",
        "    # create masks for trials where animal does not respond\n",
        "    mask = np.ones(y.shape, dtype=bool)\n",
        "    mask[y==-1] = 0\n",
        "    masks.append(mask)\n",
        "\n",
        "    # update choices so ssm doesn't complain about invalid values\n",
        "    ys[-1][mask==0] = 0\n",
        "\n",
        "# z-score cols (but not bias)\n",
        "s = np.std(np.concatenate(Xs), axis=0)\n",
        "s[1] = 1\n",
        "Xs = [x / s for x in Xs]"
      ],
      "metadata": {
        "id": "mYjtJQfhxnQh"
      },
      "execution_count": 160,
      "outputs": []
    },
    {
      "cell_type": "markdown",
      "source": [
        "# Fit the GLM-HMM\n",
        "* First, fit a standard GLM\n",
        "* Use GLM parameters to initialize GLM-HMM\n",
        "* Fit the GLM-HMM\n",
        "\n",
        "In the original Ashwood paper, they took an additional step to better regularize the model:\n",
        "* Fit a standard GLM to ALL sessions\n",
        "* Use the global GLM to initialize a global GLM-HMM, fit global GLM-HMM to ALL sessions\n",
        "* Use the global GLM-HMM to initialize subject-specific GLM-HMMs"
      ],
      "metadata": {
        "id": "mU0zMFyKnaXY"
      }
    },
    {
      "cell_type": "code",
      "source": [
        "# set the parameters of the GLM/GLM-HMM\n",
        "num_states = 3          # number of discrete states\n",
        "obs_dim = 1             # number of observed dimensions\n",
        "num_categories = 2      # number of categories for output\n",
        "input_dim = Xs[0].shape[1]  # input dimensions\n",
        "prior_sigma = 100       # prior on GLM weights is N(prior_mean, prior_sigma * I)\n",
        "alpha = 1               # transition prior is pi_k ~ Dir(alpha + kappa * e_k)\n",
        "kappa = 0               # transition prior is pi_k ~ Dir(alpha + kappa * e_k)\n",
        "\n",
        "# first, we make a GLM that we will use to initialize the GLM-HMM\n",
        "np.random.seed(0)\n",
        "glm = ssm.HMM(\n",
        "    1,\n",
        "    obs_dim,\n",
        "    input_dim,\n",
        "    observations=\"input_driven_obs\",\n",
        "    observation_kwargs=dict(C=num_categories, prior_sigma=prior_sigma),\n",
        "    transitions=\"sticky\",\n",
        "    transitions_kwargs=dict(alpha=alpha, kappa=kappa),\n",
        ")\n",
        "ll_glm = glm.fit(ys, inputs=Xs, masks=masks, method=\"em\", num_iters=200, tolerance=10**-4)"
      ],
      "metadata": {
        "id": "8EAtcythb0ZJ",
        "colab": {
          "base_uri": "https://localhost:8080/",
          "height": 49,
          "referenced_widgets": [
            "3424c94de3264c29a9a54c6fb83c6584",
            "932d118bcf1f4c19a024adb5e2284160",
            "0709f4ddca1848c9ac5d0e3d69d83284",
            "1e46059c8d2447e184aac77ec89f4f19",
            "c91dde9a4b364d238801a8d81a2f5d59",
            "3fde040ad41b4ff995e9d543796e98c0",
            "d66efeafea624605a5761b00c6ed2f06",
            "90f2a54a9899428daf41dca7666d2c7b",
            "648087a2c63c49db9cb5c4f4e86e4b85",
            "d7b1b07dbed942d5a415bb6e1098fc04",
            "64b992cf6f9f478eb961f2f52d9f4a32"
          ]
        },
        "outputId": "8f73b268-edc1-4f7d-fbc3-af350a79d980"
      },
      "execution_count": 161,
      "outputs": [
        {
          "output_type": "display_data",
          "data": {
            "text/plain": [
              "  0%|          | 0/200 [00:00<?, ?it/s]"
            ],
            "application/vnd.jupyter.widget-view+json": {
              "version_major": 2,
              "version_minor": 0,
              "model_id": "3424c94de3264c29a9a54c6fb83c6584"
            }
          },
          "metadata": {}
        }
      ]
    },
    {
      "cell_type": "code",
      "source": [
        "# set random seed for reproducible results\n",
        "np.random.seed(0)\n",
        "\n",
        "# make a GLM-HMM\n",
        "glmhmm = ssm.HMM(\n",
        "    num_states,\n",
        "    obs_dim,\n",
        "    input_dim,\n",
        "    observations=\"input_driven_obs\",\n",
        "    observation_kwargs=dict(C=num_categories, prior_sigma=prior_sigma),\n",
        "    transitions=\"sticky\",\n",
        "    transitions_kwargs=dict(alpha=alpha, kappa=kappa),\n",
        ")\n",
        "\n",
        "# initialize the transition matrix with something close to identity\n",
        "t = 0.95 * np.eye(num_states) + np.abs(0.05 * np.random.randn(num_states, num_states))\n",
        "t /= np.sum(t, axis=1)\n",
        "glmhmm.transitions.params = (np.log(t),)\n",
        "\n",
        "# initialize the weights with perturbed GLM weights\n",
        "init_weights = np.tile(glm.observations.params, (num_states, 1, 1))\n",
        "init_weights += np.random.randn(*init_weights.shape)\n",
        "glmhmm.observations.params = init_weights\n",
        "\n",
        "# maximum number of EM iterations; fitting will stop earlier if increase in LL is below tolerance specified by tolerance parameter\n",
        "ll = glmhmm.fit(ys, inputs=Xs, masks=masks, method=\"em\", num_iters=200, initialize=False, tolerance=10**-4)"
      ],
      "metadata": {
        "colab": {
          "base_uri": "https://localhost:8080/",
          "height": 49,
          "referenced_widgets": [
            "0c03a24e36b742aaa616e2ea7854742c",
            "5b50c8096231432ea49dfe14a01663a4",
            "401ca0c223cb42f3b1447fa2614ac0a1",
            "6d9f49461445440a995d13d38270c0a3",
            "e6b48dfa306d4a7abb60cc1d7fa48508",
            "d38d1354b23c447882e62969d54406c7",
            "725f27cea53c4caf9afff968f9352ff4",
            "510ddceb8d104e9c9d52d5951038645b",
            "a27dbc69b0e84b09a2680c3a59efd255",
            "4ad7dc3ba49a45a0a8c95c6a6a59b254",
            "33a20b0be15d46e7af5db66a5825078f"
          ]
        },
        "id": "0oZzH7sZIWKk",
        "outputId": "093614a5-fe70-4ed1-c521-e50351a62d2b"
      },
      "execution_count": 162,
      "outputs": [
        {
          "output_type": "display_data",
          "data": {
            "text/plain": [
              "  0%|          | 0/200 [00:00<?, ?it/s]"
            ],
            "application/vnd.jupyter.widget-view+json": {
              "version_major": 2,
              "version_minor": 0,
              "model_id": "0c03a24e36b742aaa616e2ea7854742c"
            }
          },
          "metadata": {}
        }
      ]
    },
    {
      "cell_type": "code",
      "source": [
        "# plot the log probabilities of the model through training\n",
        "fig = plt.figure(figsize=(4, 3), dpi=80, facecolor='w', edgecolor='k')\n",
        "plt.plot(ll, label=\"EM\")\n",
        "plt.xlabel(\"EM Iteration\")\n",
        "plt.xlim(0, len(ll))\n",
        "plt.ylabel(\"Log Probability\")\n",
        "plt.show()"
      ],
      "metadata": {
        "colab": {
          "base_uri": "https://localhost:8080/",
          "height": 250
        },
        "id": "UmICpj5AoZf9",
        "outputId": "9eaa46ac-fc27-41e7-fcd9-5f2178122de5"
      },
      "execution_count": 163,
      "outputs": [
        {
          "output_type": "display_data",
          "data": {
            "text/plain": [
              "<Figure size 320x240 with 1 Axes>"
            ],
            "image/png": "[encoded data removed]"
          },
          "metadata": {}
        }
      ]
    },
    {
      "cell_type": "markdown",
      "source": [
        "# Plot results"
      ],
      "metadata": {
        "id": "4p464R-yqcI2"
      }
    },
    {
      "cell_type": "markdown",
      "source": [
        "### Weights for each state"
      ],
      "metadata": {
        "id": "jIQdqoFIqfGV"
      }
    },
    {
      "cell_type": "code",
      "source": [
        "fig = plt.figure(figsize=(4, 3), dpi=80, facecolor='w', edgecolor='k')\n",
        "cols = ['#ff7f00', '#4daf4a', '#377eb8']\n",
        "recovered_weights = glmhmm.observations.params\n",
        "for k in range(num_states):\n",
        "    plt.plot(range(input_dim), recovered_weights[k][0], color=cols[k], lw=1.5, linestyle = '-')\n",
        "plt.yticks(fontsize=10)\n",
        "plt.ylabel(\"GLM weight\", fontsize=15)\n",
        "plt.xlabel(\"Covariate\", fontsize=15)\n",
        "plt.xticks([0, 1, 2, 3], ['Stim', 'Bias', 'Prev choice', 'WSLS'], fontsize=12, rotation=45)\n",
        "plt.axhline(y=0, color=\"k\", alpha=0.5, ls=\"--\")\n",
        "plt.title(\"Weight recovery\", fontsize=15)\n",
        "plt.show()"
      ],
      "metadata": {
        "colab": {
          "base_uri": "https://localhost:8080/",
          "height": 332
        },
        "id": "5SFgQ0FtorFU",
        "outputId": "585c350c-5f74-48ef-a210-0ddb82b430a5"
      },
      "execution_count": 164,
      "outputs": [
        {
          "output_type": "display_data",
          "data": {
            "text/plain": [
              "<Figure size 320x240 with 1 Axes>"
            ],
            "image/png": "[encoded data removed]"
          },
          "metadata": {}
        }
      ]
    },
    {
      "cell_type": "markdown",
      "source": [
        "### Transition matrix"
      ],
      "metadata": {
        "id": "Y-YOz1ZJqlKR"
      }
    },
    {
      "cell_type": "code",
      "source": [
        "plt.figure(figsize=(3, 3))\n",
        "recovered_trans_mat = np.exp(glmhmm.transitions.log_Ps)\n",
        "plt.imshow(recovered_trans_mat, vmin=-0.8, vmax=1, cmap='bone')\n",
        "for i in range(recovered_trans_mat.shape[0]):\n",
        "    for j in range(recovered_trans_mat.shape[1]):\n",
        "        text = plt.text(j, i, str(np.around(recovered_trans_mat[i, j], decimals=2)), ha=\"center\", va=\"center\", color=\"k\", fontsize=12)\n",
        "plt.xlim(-0.5, num_states - 0.5)\n",
        "plt.xticks(range(0, num_states), ('1', '2', '3'), fontsize=10)\n",
        "plt.yticks(range(0, num_states), ('1', '2', '3'), fontsize=10)\n",
        "plt.ylim(num_states - 0.5, -0.5)\n",
        "plt.xlabel('State t+1', fontsize=13)\n",
        "plt.ylabel('State t', fontsize=13)\n",
        "plt.title(\"Transition matrix\", fontsize=15)\n",
        "plt.subplots_adjust(0, 0, 1, 1)"
      ],
      "metadata": {
        "colab": {
          "base_uri": "https://localhost:8080/",
          "height": 408
        },
        "id": "p68V5ntSp1Dj",
        "outputId": "081d693d-cdcb-4d3f-cc72-21ca59b07e57"
      },
      "execution_count": 165,
      "outputs": [
        {
          "output_type": "display_data",
          "data": {
            "text/plain": [
              "<Figure size 300x300 with 1 Axes>"
            ],
            "image/png": "[encoded data removed]"
          },
          "metadata": {}
        }
      ]
    },
    {
      "cell_type": "markdown",
      "source": [
        "### Posterior state probabilities"
      ],
      "metadata": {
        "id": "oEVnAPI2qoyc"
      }
    },
    {
      "cell_type": "code",
      "source": [
        "# get expected states\n",
        "idx = 0\n",
        "posterior_probs = glmhmm.expected_states(data=ys[idx], input=Xs[idx], mask=masks[idx])[0]"
      ],
      "metadata": {
        "id": "4VSoVQjKqrIS"
      },
      "execution_count": 166,
      "outputs": []
    },
    {
      "cell_type": "code",
      "source": [
        "fig = plt.figure(figsize=(5, 2.5), dpi=80, facecolor='w', edgecolor='k')\n",
        "for k in range(num_states):\n",
        "    plt.plot(posterior_probs[:, k], label=\"State \" + str(k + 1), lw=2, color=cols[k])\n",
        "plt.ylim((-0.01, 1.01))\n",
        "plt.yticks([0, 0.5, 1], fontsize = 10)\n",
        "plt.xlabel(\"trial #\", fontsize = 15)\n",
        "plt.ylabel(\"p(state)\", fontsize = 15)\n",
        "plt.show()"
      ],
      "metadata": {
        "colab": {
          "base_uri": "https://localhost:8080/",
          "height": 229
        },
        "id": "J1nPaK-7q6Vp",
        "outputId": "c43734fe-dded-4bb1-8e5f-8fb9e27fe6fd"
      },
      "execution_count": 167,
      "outputs": [
        {
          "output_type": "display_data",
          "data": {
            "text/plain": [
              "<Figure size 400x200 with 1 Axes>"
            ],
            "image/png": "[encoded data removed]"
          },
          "metadata": {}
        }
      ]
    },
    {
      "cell_type": "markdown",
      "source": [
        "### Occupancy rate"
      ],
      "metadata": {
        "id": "CR2bZKcMr5Oz"
      }
    },
    {
      "cell_type": "code",
      "source": [
        "posterior_probs = np.concatenate([glmhmm.expected_states(data=y, input=x)[0] for y, x in zip(ys, Xs)])\n",
        "\n",
        "# get state with maximum posterior probability for each trial\n",
        "state_max_posterior = np.argmax(posterior_probs, axis=1)\n",
        "# now obtain state fractional occupancies\n",
        "_, state_occupancies = np.unique(state_max_posterior, return_counts=True)\n",
        "state_occupancies = state_occupancies / np.sum(state_occupancies)\n",
        "\n",
        "fig = plt.figure(figsize=(3, 3), dpi=80, facecolor='w', edgecolor='k')\n",
        "for z, occ in enumerate(state_occupancies):\n",
        "    plt.bar(z, occ, width=0.8, color=cols[z])\n",
        "plt.ylim((0, 1))\n",
        "plt.xticks([0, 1, 2], ['1', '2', '3'], fontsize=10)\n",
        "plt.yticks([0, 0.5, 1], ['0', '0.5', '1'], fontsize=10)\n",
        "plt.xlabel('state', fontsize=15)\n",
        "plt.ylabel('frac. occupancy', fontsize=15)\n",
        "plt.show()"
      ],
      "metadata": {
        "colab": {
          "base_uri": "https://localhost:8080/",
          "height": 262
        },
        "id": "sZps9GkEr81-",
        "outputId": "8a8d7d5b-0629-4943-f3a5-b10b3c0daf9c"
      },
      "execution_count": 168,
      "outputs": [
        {
          "output_type": "display_data",
          "data": {
            "text/plain": [
              "<Figure size 240x240 with 1 Axes>"
            ],
            "image/png": "[encoded data removed]"
          },
          "metadata": {}
        }
      ]
    },
    {
      "cell_type": "markdown",
      "source": [
        "### Psychometric curves as a function of state"
      ],
      "metadata": {
        "id": "J0vCjQg40WmH"
      }
    },
    {
      "cell_type": "code",
      "source": [
        "stim_vals = np.concatenate([x[:, 0] for x in Xs])\n",
        "stim_vals_vec = np.unique(stim_vals)\n",
        "stim_vals_vec = stim_vals_vec[:, None]\n",
        "X_tmp_prevR = np.hstack([stim_vals_vec, np.ones_like(stim_vals_vec), -1 * np.ones_like(stim_vals_vec), np.ones_like(stim_vals_vec)])\n",
        "X_tmp_prevL = np.hstack([stim_vals_vec, np.ones_like(stim_vals_vec), np.ones_like(stim_vals_vec), np.ones_like(stim_vals_vec)])\n",
        "yhats_prevR = np.exp(glmhmm.observations.calculate_logits(X_tmp_prevR))\n",
        "yhats_prevL = np.exp(glmhmm.observations.calculate_logits(X_tmp_prevL))\n",
        "\n",
        "plt.figure(figsize=(8, 3))\n",
        "for k in range(num_states):\n",
        "    plt.subplot(1, num_states, k+1)\n",
        "    plt.plot(stim_vals_vec, yhats_prevR[:, k, 1], '-', color=cols[k], alpha=1, lw=1, label='Prev R')\n",
        "    plt.plot(stim_vals_vec, yhats_prevL[:, k, 1], '--', color=cols[k], alpha=1, lw=1, label='Prev L')\n",
        "    plt.xticks([stim_vals_vec[0, 0], 0, stim_vals_vec[-1, 0]], [-100, 0, 100], fontsize=10)\n",
        "    plt.xlabel('Stimulus')\n",
        "    if k == 0:\n",
        "        plt.yticks([0, 0.5, 1], fontsize=10)\n",
        "        plt.ylabel('p(Right)')\n",
        "        plt.legend(loc='upper left')\n",
        "    else:\n",
        "        plt.yticks([0, 0.5, 1], ['', '', ''], fontsize=10)\n",
        "        plt.ylabel('')\n",
        "    plt.title(f'State {k+1}')\n",
        "    plt.gca().spines['right'].set_visible(False)\n",
        "    plt.gca().spines['top'].set_visible(False)\n",
        "    plt.ylim((-0.01, 1.01))"
      ],
      "metadata": {
        "colab": {
          "base_uri": "https://localhost:8080/",
          "height": 333
        },
        "id": "sB2j-gME9kuK",
        "outputId": "c6fe0111-3909-49cb-c61f-dec854af2119"
      },
      "execution_count": 169,
      "outputs": [
        {
          "output_type": "display_data",
          "data": {
            "text/plain": [
              "<Figure size 800x300 with 3 Axes>"
            ],
            "image/png": "[encoded data removed]"
          },
          "metadata": {}
        }
      ]
    },
    {
      "cell_type": "markdown",
      "source": [
        "# Exercises\n",
        "* how do results change with a different number of discrete states?\n",
        "* how do results change with a different set of predictors (e.g. remove win-stay-lose-switch)\n",
        "* plot HMM discrete states on top of block information (trials.probabilityLeft)\n"
      ],
      "metadata": {
        "id": "pIn3dwgMGwmw"
      }
    }
  ]
}