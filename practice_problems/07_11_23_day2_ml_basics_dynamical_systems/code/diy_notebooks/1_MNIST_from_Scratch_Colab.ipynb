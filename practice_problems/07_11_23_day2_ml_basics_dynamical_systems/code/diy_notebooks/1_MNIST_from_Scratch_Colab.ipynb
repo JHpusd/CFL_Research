{
  "cells": [
    {
      "cell_type": "code",
      "execution_count": 3,
      "metadata": {
        "id": "NSAvShrcC2vO"
      },
      "outputs": [],
      "source": [
        "# For tips on running notebooks in Google Colab, see\n",
        "# https://pytorch.org/tutorials/beginner/colab\n",
        "%matplotlib inline"
      ]
    },
    {
      "cell_type": "markdown",
      "metadata": {},
      "source": [
        "[![Open in Colab](https://colab.research.google.com/assets/colab-badge.svg)](https://colab.research.google.com/github/cheninstitutecaltech/Caltech_DATASAI_Neuroscience_23/blob/main/07_11_23_day2_ml_basics_dynamical_systems/code/diy_notebooks/1_MNIST_from_Scratch_Colab.ipynb)"
      ]
    },
    {
      "cell_type": "markdown",
      "metadata": {
        "id": "SMPUdwqfC2vS"
      },
      "source": [
        "\n",
        "# Training a Classifier\n",
        "\n",
        "This is it. You have seen how to define neural networks, compute loss and make\n",
        "updates to the weights of the network.\n",
        "\n",
        "Now you might be thinking,\n",
        "\n",
        "## What about data?\n",
        "\n",
        "Generally, when you have to deal with image, text, audio or video data,\n",
        "you can use standard python packages that load data into a numpy array.\n",
        "Then you can convert this array into a ``torch.*Tensor``.\n",
        "\n",
        "-  For images, packages such as Pillow, OpenCV are useful\n",
        "-  For audio, packages such as scipy and librosa\n",
        "-  For text, either raw Python or Cython based loading, or NLTK and\n",
        "   SpaCy are useful\n",
        "\n",
        "Specifically for vision, we have created a package called\n",
        "``torchvision``, that has data loaders for common datasets such as\n",
        "ImageNet, CIFAR10, MNIST, etc. and data transformers for images, viz.,\n",
        "``torchvision.datasets`` and ``torch.utils.data.DataLoader``.\n",
        "\n",
        "This provides a huge convenience and avoids writing boilerplate code.\n",
        "\n",
        "For this tutorial, we will use the MNIST dataset.\n",
        "It has the classes: 0, 1, 2, 3, 4, 5, 6, 7, 8, 9. The images in MNIST are of\n",
        "size 1x28x28, i.e. grayscale images of 28x28 pixels in size.\n",
        "\n",
        "\n",
        "## Training an image classifier\n",
        "\n",
        "We will do the following steps in order:\n",
        "\n",
        "1. Load and normalize the MNIST training and test datasets using\n",
        "   ``torchvision``\n",
        "2. Define a Fully-Connected Neural Network\n",
        "3. Define a loss function\n",
        "4. Train the network on the training data\n",
        "5. Test the network on the test data\n",
        "\n",
        "### 1. Load and normalize MNIST\n",
        "\n",
        "Using ``torchvision``, it’s extremely easy to load MNIST.\n"
      ]
    },
    {
      "cell_type": "code",
      "execution_count": 4,
      "metadata": {
        "id": "KPqagk-pC2vV"
      },
      "outputs": [],
      "source": [
        "import torch\n",
        "import torchvision\n",
        "import torchvision.transforms as transforms"
      ]
    },
    {
      "cell_type": "markdown",
      "metadata": {
        "id": "0DjQgYY-C2vW"
      },
      "source": [
        "The output of torchvision datasets are PILImage images of range [0, 1].\n",
        "We transform them to Tensors of normalized range [-1, 1].\n",
        "\n"
      ]
    },
    {
      "cell_type": "markdown",
      "metadata": {
        "id": "m2S6JxjDC2vX"
      },
      "source": [
        "<div class=\"alert alert-info\"><h4>Note</h4><p>If running on Windows and you get a BrokenPipeError, try setting\n",
        "    the num_worker of torch.utils.data.DataLoader() to 0.</p></div>\n",
        "\n"
      ]
    },
    {
      "cell_type": "code",
      "execution_count": 35,
      "metadata": {
        "id": "inSwQ0MwC2vX"
      },
      "outputs": [],
      "source": [
        "transform = transforms.Compose(\n",
        "    [transforms.ToTensor(),\n",
        "     transforms.Normalize((0.5,), (0.5,))])\n",
        "\n",
        "batch_size = 4\n",
        "\n",
        "trainset = torchvision.datasets.MNIST(root='./data', train=True,\n",
        "                                        download=True, transform=transform)\n",
        "trainloader = torch.utils.data.DataLoader(trainset, batch_size=batch_size,\n",
        "                                          shuffle=True, num_workers=2)\n",
        "\n",
        "testset = torchvision.datasets.MNIST(root='./data', train=False,\n",
        "                                       download=True, transform=transform)\n",
        "testloader = torch.utils.data.DataLoader(testset, batch_size=batch_size,\n",
        "                                         shuffle=False, num_workers=2)\n",
        "\n",
        "classes = [f\"{num}\" for num in range(10)]"
      ]
    },
    {
      "cell_type": "markdown",
      "metadata": {
        "id": "-xzjvEEwC2vY"
      },
      "source": [
        "Let us show some of the training images, for fun.\n",
        "\n"
      ]
    },
    {
      "cell_type": "code",
      "execution_count": 36,
      "metadata": {
        "id": "YHA3KIg5C2vY"
      },
      "outputs": [
        {
          "data": {
            "image/png": "[encoded data removed]",
            "text/plain": [
              "<Figure size 640x480 with 1 Axes>"
            ]
          },
          "metadata": {},
          "output_type": "display_data"
        },
        {
          "name": "stdout",
          "output_type": "stream",
          "text": [
            "5     3     8     8    \n"
          ]
        }
      ],
      "source": [
        "import matplotlib.pyplot as plt\n",
        "import numpy as np\n",
        "\n",
        "# functions to show an image\n",
        "\n",
        "\n",
        "def imshow(img):\n",
        "    img = img / 2 + 0.5     # unnormalize\n",
        "    npimg = img.numpy()\n",
        "    plt.imshow(np.transpose(npimg, (1, 2, 0)))\n",
        "    plt.show()\n",
        "\n",
        "\n",
        "# get some random training images\n",
        "dataiter = iter(trainloader)\n",
        "images, labels = next(dataiter)\n",
        "\n",
        "# show images\n",
        "imshow(torchvision.utils.make_grid(images))\n",
        "# print labels\n",
        "print(' '.join(f'{classes[labels[j]]:5s}' for j in range(batch_size)))"
      ]
    },
    {
      "cell_type": "markdown",
      "metadata": {
        "id": "mSRFALwxC2vZ"
      },
      "source": [
        "### 2. Define a Fully-Connected Neural Network\n",
        "\n"
      ]
    },
    {
      "cell_type": "code",
      "execution_count": 7,
      "metadata": {
        "id": "SbSpA0evC2vZ"
      },
      "outputs": [],
      "source": [
        "import torch.nn as nn\n",
        "import torch.nn.functional as F\n",
        "\n",
        "\n",
        "class Net(nn.Module):\n",
        "    def __init__(self):\n",
        "        super().__init__()\n",
        "        self.fc1 = nn.Linear(28 * 28, 120)\n",
        "        self.fc2 = nn.Linear(120, 256)\n",
        "        self.fc3 = nn.Linear(256, 10)\n",
        "\n",
        "    def forward(self, x):\n",
        "        x = torch.flatten(x, 1) # flatten all dimension except batch\n",
        "        x = F.relu(self.fc1(x))\n",
        "        x = F.relu(self.fc2(x))\n",
        "        x = self.fc3(x)\n",
        "\n",
        "        return x\n",
        "\n",
        "\n",
        "net = Net()"
      ]
    },
    {
      "cell_type": "markdown",
      "metadata": {
        "id": "bSbXl_a2C2va"
      },
      "source": [
        "### 3. Define a Loss function and optimizer\n",
        "Let's use a Classification Cross-Entropy loss and SGD with momentum.\n",
        "\n"
      ]
    },
    {
      "cell_type": "code",
      "execution_count": 8,
      "metadata": {
        "id": "XAMzAM-rC2va"
      },
      "outputs": [],
      "source": [
        "import torch.optim as optim\n",
        "\n",
        "criterion = nn.CrossEntropyLoss()\n",
        "optimizer = optim.SGD(net.parameters(), lr=0.001, momentum=0.9)"
      ]
    },
    {
      "cell_type": "markdown",
      "metadata": {
        "id": "vzfi_X79C2va"
      },
      "source": [
        "### 4. Train the network\n",
        "\n",
        "This is when things start to get interesting.\n",
        "We simply have to loop over our data iterator, and feed the inputs to the\n",
        "network and optimize.\n",
        "\n"
      ]
    },
    {
      "cell_type": "code",
      "execution_count": 9,
      "metadata": {
        "id": "neCjhLUjC2vb"
      },
      "outputs": [
        {
          "name": "stdout",
          "output_type": "stream",
          "text": [
            "[1,  2000] loss: 0.782\n",
            "[1,  4000] loss: 0.389\n",
            "[1,  6000] loss: 0.312\n",
            "[1,  8000] loss: 0.267\n",
            "[1, 10000] loss: 0.235\n",
            "[1, 12000] loss: 0.221\n",
            "[1, 14000] loss: 0.202\n",
            "[2,  2000] loss: 0.170\n",
            "[2,  4000] loss: 0.170\n",
            "[2,  6000] loss: 0.162\n",
            "[2,  8000] loss: 0.148\n",
            "[2, 10000] loss: 0.133\n",
            "[2, 12000] loss: 0.134\n",
            "[2, 14000] loss: 0.140\n",
            "Finished Training\n"
          ]
        }
      ],
      "source": [
        "for epoch in range(2):  # loop over the dataset multiple times\n",
        "\n",
        "    running_loss = 0.0\n",
        "    for i, data in enumerate(trainloader, 0):\n",
        "        # get the inputs; data is a list of [inputs, labels]\n",
        "        inputs, labels = data\n",
        "\n",
        "        # zero the parameter gradients\n",
        "        optimizer.zero_grad()\n",
        "\n",
        "        # forward + backward + optimize\n",
        "        outputs = net(inputs)\n",
        "        loss = criterion(outputs, labels)\n",
        "        loss.backward()\n",
        "        optimizer.step()\n",
        "\n",
        "        # print statistics\n",
        "        running_loss += loss.item()\n",
        "        if i % 2000 == 1999:    # print every 2000 mini-batches\n",
        "            print(f'[{epoch + 1}, {i + 1:5d}] loss: {running_loss / 2000:.3f}')\n",
        "            running_loss = 0.0\n",
        "\n",
        "print('Finished Training')"
      ]
    },
    {
      "cell_type": "markdown",
      "metadata": {
        "id": "YBxJ13KBC2vb"
      },
      "source": [
        "Let's quickly save our trained model:\n",
        "\n"
      ]
    },
    {
      "cell_type": "code",
      "execution_count": 10,
      "metadata": {
        "id": "bYjiBOFwC2vb"
      },
      "outputs": [],
      "source": [
        "PATH = './mnist_net.pth'\n",
        "torch.save(net.state_dict(), PATH)"
      ]
    },
    {
      "cell_type": "markdown",
      "metadata": {
        "id": "ewhiRaDCC2vb"
      },
      "source": [
        "See [here](https://pytorch.org/docs/stable/notes/serialization.html)\n",
        "for more details on saving PyTorch models.\n",
        "\n",
        "### 5. Test the network on the test data\n",
        "\n",
        "We have trained the network for 2 passes over the training dataset.\n",
        "But we need to check if the network has learnt anything at all.\n",
        "\n",
        "We will check this by predicting the class label that the neural network\n",
        "outputs, and checking it against the ground-truth. If the prediction is\n",
        "correct, we add the sample to the list of correct predictions.\n",
        "\n",
        "Okay, first step. Let us display an image from the test set to get familiar.\n",
        "\n"
      ]
    },
    {
      "cell_type": "code",
      "execution_count": 37,
      "metadata": {
        "id": "4uDQF9R0C2vc"
      },
      "outputs": [
        {
          "data": {
            "image/png": "[encoded data removed]",
            "text/plain": [
              "<Figure size 640x480 with 1 Axes>"
            ]
          },
          "metadata": {},
          "output_type": "display_data"
        },
        {
          "name": "stdout",
          "output_type": "stream",
          "text": [
            "GroundTruth:  7     2     1     0    \n"
          ]
        }
      ],
      "source": [
        "dataiter = iter(testloader)\n",
        "images, labels = next(dataiter)\n",
        "\n",
        "# print images\n",
        "imshow(torchvision.utils.make_grid(images))\n",
        "print('GroundTruth: ', ' '.join(f'{classes[labels[j]]:5s}' for j in range(4)))"
      ]
    },
    {
      "cell_type": "markdown",
      "metadata": {
        "id": "jRX4mCj1C2vc"
      },
      "source": [
        "Next, let's load back in our saved model (note: saving and re-loading the model\n",
        "wasn't necessary here, we only did it to illustrate how to do so):\n",
        "\n"
      ]
    },
    {
      "cell_type": "code",
      "execution_count": 12,
      "metadata": {
        "id": "S5sF03kNC2vc"
      },
      "outputs": [
        {
          "data": {
            "text/plain": [
              "<All keys matched successfully>"
            ]
          },
          "execution_count": 12,
          "metadata": {},
          "output_type": "execute_result"
        }
      ],
      "source": [
        "net = Net()\n",
        "net.load_state_dict(torch.load(PATH))"
      ]
    },
    {
      "cell_type": "markdown",
      "metadata": {
        "id": "Jpx1ZwfWC2vc"
      },
      "source": [
        "Okay, now let us see what the neural network thinks these examples above are:\n",
        "\n"
      ]
    },
    {
      "cell_type": "code",
      "execution_count": 40,
      "metadata": {
        "id": "mcoZ9wT6C2vc"
      },
      "outputs": [],
      "source": [
        "outputs = net(images)"
      ]
    },
    {
      "cell_type": "markdown",
      "metadata": {
        "id": "zwm6N70EC2vd"
      },
      "source": [
        "The outputs are energies for the 10 classes.\n",
        "The higher the energy for a class, the more the network\n",
        "thinks that the image is of the particular class.\n",
        "So, let's get the index of the highest energy:\n",
        "\n"
      ]
    },
    {
      "cell_type": "code",
      "execution_count": 14,
      "metadata": {
        "id": "X34XIvaQC2vd"
      },
      "outputs": [
        {
          "name": "stdout",
          "output_type": "stream",
          "text": [
            "Predicted:  7     2     1     0    \n"
          ]
        }
      ],
      "source": [
        "_, predicted = torch.max(outputs, 1)\n",
        "\n",
        "print('Predicted: ', ' '.join(f'{classes[predicted[j]]:5s}'\n",
        "                              for j in range(4)))"
      ]
    },
    {
      "cell_type": "markdown",
      "metadata": {
        "id": "C9TNXFQGC2vd"
      },
      "source": [
        "The results seem pretty good.\n",
        "\n",
        "Let us look at how the network performs on the whole dataset.\n",
        "\n"
      ]
    },
    {
      "cell_type": "code",
      "execution_count": 15,
      "metadata": {
        "id": "eugFdhE2C2vd"
      },
      "outputs": [
        {
          "name": "stdout",
          "output_type": "stream",
          "text": [
            "Accuracy of the network on the 10000 test images: 95 %\n"
          ]
        }
      ],
      "source": [
        "correct = 0\n",
        "total = 0\n",
        "# since we're not training, we don't need to calculate the gradients for our outputs\n",
        "with torch.no_grad():\n",
        "    for data in testloader:\n",
        "        images, labels = data\n",
        "        # calculate outputs by running images through the network\n",
        "        outputs = net(images)\n",
        "        # the class with the highest energy is what we choose as prediction\n",
        "        _, predicted = torch.max(outputs.data, 1)\n",
        "        total += labels.size(0)\n",
        "        correct += (predicted == labels).sum().item()\n",
        "\n",
        "print(f'Accuracy of the network on the 10000 test images: {100 * correct // total} %')"
      ]
    },
    {
      "cell_type": "markdown",
      "metadata": {
        "id": "AwUJ2f3_C2vd"
      },
      "source": [
        "That looks way better than chance, which is 10% accuracy (randomly picking\n",
        "a class out of 10 classes).\n",
        "Seems like the network learnt something.\n",
        "\n",
        "Hmmm, what are the classes that performed well, and the classes that did\n",
        "not perform well:\n",
        "\n"
      ]
    },
    {
      "cell_type": "code",
      "execution_count": 16,
      "metadata": {
        "id": "oBF9Vcs2C2vd"
      },
      "outputs": [
        {
          "name": "stdout",
          "output_type": "stream",
          "text": [
            "Accuracy for class: 0     is 98.6 %\n",
            "Accuracy for class: 1     is 98.8 %\n",
            "Accuracy for class: 2     is 94.2 %\n",
            "Accuracy for class: 3     is 88.6 %\n",
            "Accuracy for class: 4     is 96.9 %\n",
            "Accuracy for class: 5     is 96.1 %\n",
            "Accuracy for class: 6     is 97.2 %\n",
            "Accuracy for class: 7     is 96.5 %\n",
            "Accuracy for class: 8     is 89.7 %\n",
            "Accuracy for class: 9     is 95.6 %\n"
          ]
        }
      ],
      "source": [
        "# prepare to count predictions for each class\n",
        "correct_pred = {classname: 0 for classname in classes}\n",
        "total_pred = {classname: 0 for classname in classes}\n",
        "\n",
        "# again no gradients needed\n",
        "with torch.no_grad():\n",
        "    for data in testloader:\n",
        "        images, labels = data\n",
        "        outputs = net(images)\n",
        "        _, predictions = torch.max(outputs, 1)\n",
        "        # collect the correct predictions for each class\n",
        "        for label, prediction in zip(labels, predictions):\n",
        "            if label == prediction:\n",
        "                correct_pred[classes[label]] += 1\n",
        "            total_pred[classes[label]] += 1\n",
        "\n",
        "\n",
        "# print accuracy for each class\n",
        "for classname, correct_count in correct_pred.items():\n",
        "    accuracy = 100 * float(correct_count) / total_pred[classname]\n",
        "    print(f'Accuracy for class: {classname:5s} is {accuracy:.1f} %')"
      ]
    },
    {
      "cell_type": "markdown",
      "metadata": {
        "id": "RJipQ_ScQYSp"
      },
      "source": [
        "# Building a Classifier from Scratch\n",
        "---\n",
        "\n",
        "Now that you've built and trained a neural network for classification on MNIST, you will build the same network from the ground up. We will first derive the loss function, derive the backpropagation rule, create the optimizer, and run the training. By building the neural network from scratch, you'll have how a neural network operates internally—giving you a better idea why different failure modes may occur."
      ]
    },
    {
      "cell_type": "markdown",
      "metadata": {
        "id": "RLrbSOiZRJah"
      },
      "source": [
        "## 1. Deriving the loss function\n",
        "\n",
        "The binary cross-entropy is directly related to maximum likelihood estimation on the logistic distribution\n",
        "$$\n",
        "{\\arg\\max}_{\\theta} \\mathbb{E}_{\\hat{p}_\\text{data}}[\\log p_\\theta(z)]\n",
        "$$\n",
        "\n",
        "### Step 1.\n",
        "For $\\hat{p}_\\text{data}$ is a categorical distribution, that is, $\\hat{p}_\\text{data} = (p_1, p_2, \\ldots, p_k)$, what is the likelihood function\n",
        "$$\n",
        "\\mathbb{E}_{\\hat{p}_\\text{data}}[\\log p_\\theta(x, y)]\n",
        "$$"
      ]
    },
    {
      "cell_type": "markdown",
      "metadata": {
        "id": "u2HMD_q3Swsv"
      },
      "source": [
        "Answer:\n",
        "$$\n",
        "\\mathbb{E}_{\\hat{p}_\\text{data}}[\\log p_\\theta(x, y)] = \\sum_{i} \\sum_j p_j^{(i)} \\log p_\\theta(z)_j^{(i)}\n",
        "$$"
      ]
    },
    {
      "cell_type": "markdown",
      "metadata": {
        "id": "DFXSiQ7vTm6U"
      },
      "source": [
        "### Step 2.\n",
        "If $\\hat{p}_\\text{data} = (0, \\ldots, 1, \\ldots, 0)$, that is, $\\hat{p}_\\text{data} = 1$ for some $i$, what is the likelihood function?"
      ]
    },
    {
      "cell_type": "markdown",
      "metadata": {
        "id": "ouxhc7RdT5P3"
      },
      "source": [
        "Answer:\n",
        "$$\n",
        "\\mathbb{E}_{\\hat{p}_\\text{data}}[\\log p_\\theta(x, y)] = \\sum_{i} p_j^{(i)} \\log p_\\theta(z)_j^{(i)}\n",
        "$$"
      ]
    },
    {
      "cell_type": "markdown",
      "metadata": {
        "id": "mG1wrc56V8VD"
      },
      "source": []
    },
    {
      "cell_type": "markdown",
      "metadata": {
        "id": "2z4A2FhCUXax"
      },
      "source": [
        "### Step 3.\n",
        "What is the gradient of likelihood function with respect to $z$?"
      ]
    },
    {
      "cell_type": "markdown",
      "metadata": {
        "id": "FUvWBAX5Udyn"
      },
      "source": [
        "Answer:\n",
        "$$\n",
        "\\mathbb{E}_{\\hat{p}_\\text{data}}[\\log p_\\theta(x, y)] = \\sum_{i} \\frac{p_j^{(i)}}{p_\\theta(z)_j^{(i)}} \\frac{\\partial p_\\theta(z)}{\\partial z}\n",
        "$$"
      ]
    },
    {
      "cell_type": "markdown",
      "metadata": {
        "id": "qT3Qv8uDUvm8"
      },
      "source": [
        "### Step 4.\n",
        "What is the gradient of the softmax distribution\n",
        "$$\n",
        "p_\\theta(z) = \\frac{e^{z_i}}{\\sum_{j} e^{z_j}}\n",
        "$$\n",
        "\n",
        "Answer:\n",
        "$$\n",
        "\\frac{\\partial p_\\theta(z)}{\\partial z} = p_\\theta(z)_i (\\delta_{ij} - p_\\theta(z)_j)\n",
        "$$"
      ]
    },
    {
      "cell_type": "markdown",
      "metadata": {
        "id": "E8I1UJiGVud-"
      },
      "source": [
        "### Step 5.\n",
        "What is the gradient of the negative log likelihood function\n",
        "$$\n",
        "-\\mathbb{E}_{\\hat{p}_\\text{data}}[\\log p_\\theta(z)]\n",
        "$$\n",
        "\n",
        "Answer:\n",
        "$$\n",
        "\\frac{\\partial}{\\partial z}\\left[-\\mathbb{E}_{\\hat{p}_\\text{data}}[\\log p_\\theta(z)] \\right] = p_\\theta(z)_i - p_i\n",
        "$$"
      ]
    },
    {
      "cell_type": "markdown",
      "metadata": {
        "id": "rogWaBmWWVzy"
      },
      "source": [
        "## 2. Deriving the backpropagation rule\n",
        "\n",
        "### Step 1.\n",
        "What are the gradients\n",
        "$$\n",
        "\\frac{\\partial}{\\partial W} [Wz + b], \\frac{\\partial}{\\partial z} [Wz + b], \\frac{\\partial}{\\partial b}[Wz + b]?\n",
        "$$\n",
        "\n",
        "Answer:\n",
        "$$\n",
        "\\frac{\\partial}{\\partial W} [Wz + b] = 1^T z, \\frac{\\partial}{\\partial z} [Wz + b] = W, \\frac{\\partial}{\\partial b}[Wz + b]=1\n",
        "$$"
      ]
    },
    {
      "cell_type": "markdown",
      "metadata": {
        "id": "K72M6p5QYD0L"
      },
      "source": [
        "### What is the gradient of the activation function\n",
        "$$\n",
        "\\sigma(z) = \\max{0, z}?\n",
        "$$\n",
        "\n",
        "Answer:\n",
        "$$\n",
        "\\frac{\\partial \\sigma}{\\partial z} = \\mathbb{I}[z > 0]\n",
        "$$\n",
        "where $\\mathbb{I}$ is the indicator function."
      ]
    },
    {
      "cell_type": "markdown",
      "metadata": {
        "id": "g1TE_BB5Ythb"
      },
      "source": [
        "## 3. Writing the backpropagation code\n",
        "\n",
        "In this section, you will write the code to calculate the forward and backward passes of the neural network."
      ]
    },
    {
      "cell_type": "code",
      "execution_count": 17,
      "metadata": {
        "id": "yArnfHJHQaqI"
      },
      "outputs": [],
      "source": [
        "class NLLLoss:\n",
        "  def __call__(self, x):\n",
        "    return self.forward(x)\n",
        "\n",
        "  def forward(self, outputs, labels):\n",
        "    # Calculate the softmax distribution\n",
        "\n",
        "    # Calculate the negative log likelihood function\n",
        "    pass\n",
        "\n",
        "  def backward(self, outputs, labels):\n",
        "    # Calculate the gradient of the negative log likelihood function\n",
        "    pass\n"
      ]
    },
    {
      "cell_type": "code",
      "execution_count": 18,
      "metadata": {
        "id": "fREo49A0aNkd"
      },
      "outputs": [],
      "source": [
        "class Linear:\n",
        "  def __init__(self, dim_in, dim_out):\n",
        "    # set the weight and bias\n",
        "    # self.W = ?\n",
        "    # self.b = ?\n",
        "    pass\n",
        "\n",
        "  def __call__(self, x):\n",
        "    return self.forward(x)\n",
        "\n",
        "  def forward(self, x):\n",
        "    # Calculate W*x + b\n",
        "    pass\n",
        "\n",
        "  def backward(self, z):\n",
        "    # Calculate d/dz\n",
        "\n",
        "    # Calculate d/dW\n",
        "\n",
        "    # Calculate d/db\n",
        "    pass"
      ]
    },
    {
      "cell_type": "code",
      "execution_count": 19,
      "metadata": {
        "id": "l86IHgawa5SS"
      },
      "outputs": [],
      "source": [
        "class ReLU:\n",
        "  def __call__(self, x):\n",
        "    return self.forward(x)\n",
        "\n",
        "  def forward(self, x):\n",
        "    # Calculate max{0, x}\n",
        "    pass\n",
        "\n",
        "  def backward(self, z):\n",
        "    # Calculate d/dz max{0, z}\n",
        "    pass"
      ]
    },
    {
      "cell_type": "code",
      "execution_count": 20,
      "metadata": {
        "id": "XZvnNeKqc2wo"
      },
      "outputs": [],
      "source": [
        "class Net:\n",
        "    def __init__(self):\n",
        "        self.fc1 = Linear(28 * 28, 120)\n",
        "        self.fc2 = Linear(120, 256)\n",
        "        self.fc3 = Linear(256, 10)\n",
        "        self.relu = ReLU()\n",
        "        self.parameters = {\n",
        "            \"fc1.W\": self.fc1.W,\n",
        "            \"fc1.b\": self.fc1.b,\n",
        "            \"fc2.W\": self.fc2.W,\n",
        "            \"fc2.b\": self.fc2.b,\n",
        "            \"fc3.W\": self.fc3.W,\n",
        "            \"fc3.b\": self.fc3.b\n",
        "        }\n",
        "        self._grad = None\n",
        "\n",
        "    def __call__(self, x):\n",
        "        return self.forward(x)\n",
        "\n",
        "    def forward(self, x):\n",
        "        x = torch.reshape(x, (x.shape[0], -1)) # flatten all dimension except batch\n",
        "        x = self.relu(self.fc1(x))\n",
        "        x = self.relu(self.fc2(x))\n",
        "        x = self.fc3(x)\n",
        "\n",
        "        return x\n",
        "\n",
        "    def backward(self, z):\n",
        "        self._grad = {}\n",
        "        dz, dW, db = self.fc3.backward(z)\n",
        "        self._grad[\"fc3.W\"] = dW\n",
        "        self._grad[\"fc3.b\"] = db\n",
        "        dz = self.relu(z)\n",
        "        dz, dW, db = self.fc2.backward(z)\n",
        "        self._grad[\"fc2.W\"] = dW\n",
        "        self._grad[\"fc2.b\"] = db\n",
        "        dz = self.relu.backward(z)\n",
        "        dz, dW, db = self.fc1.backward(z)\n",
        "        self._grad[\"fc1.W\"] = dW\n",
        "        self._grad[\"fc1.b\"] = db\n"
      ]
    },
    {
      "cell_type": "markdown",
      "metadata": {
        "id": "DWN6XtPEbUob"
      },
      "source": [
        "## 4. Writing the optimizer\n",
        "\n",
        "### Step 1.\n",
        "In this example, we will be implementing stochastic gradient descent\n",
        "$$\n",
        "  \\theta_{t+1} \\leftarrow \\theta_t - \\nabla_\\theta (- \\mathbb{E}_{p_\\text{data}}[\\log p_\\theta(z(x))])\n",
        "$$"
      ]
    },
    {
      "cell_type": "code",
      "execution_count": 21,
      "metadata": {
        "id": "tK4V-FNEby4s"
      },
      "outputs": [],
      "source": [
        "class Optimizer:\n",
        "  def __init__(self, lr=1e-3):\n",
        "    # Keep track of a dictionary of the model's parameters\n",
        "    # self.parameters = ?\n",
        "\n",
        "    # Set the learning rate\n",
        "    self.lr = lr\n",
        "    pass\n",
        "\n",
        "  def step(self, gradients):\n",
        "    for k in self.parameters:\n",
        "      self.parameters[k] += self.lr*gradients[k]\n",
        "\n"
      ]
    },
    {
      "cell_type": "markdown",
      "metadata": {
        "id": "ccHpJKbbcmr0"
      },
      "source": [
        "## 5. Run the training\n"
      ]
    },
    {
      "cell_type": "code",
      "execution_count": 22,
      "metadata": {
        "id": "8kfo_LZCe1gl"
      },
      "outputs": [
        {
          "ename": "AttributeError",
          "evalue": "'Linear' object has no attribute 'W'",
          "output_type": "error",
          "traceback": [
            "\u001b[1;31m---------------------------------------------------------------------------\u001b[0m",
            "\u001b[1;31mAttributeError\u001b[0m                            Traceback (most recent call last)",
            "Cell \u001b[1;32mIn[22], line 1\u001b[0m\n\u001b[1;32m----> 1\u001b[0m net \u001b[38;5;241m=\u001b[39m \u001b[43mNet\u001b[49m\u001b[43m(\u001b[49m\u001b[43m)\u001b[49m\n\u001b[0;32m      2\u001b[0m loss \u001b[38;5;241m=\u001b[39m NLLLoss()\n",
            "Cell \u001b[1;32mIn[20], line 8\u001b[0m, in \u001b[0;36mNet.__init__\u001b[1;34m(self)\u001b[0m\n\u001b[0;32m      5\u001b[0m \u001b[38;5;28mself\u001b[39m\u001b[38;5;241m.\u001b[39mfc3 \u001b[38;5;241m=\u001b[39m Linear(\u001b[38;5;241m256\u001b[39m, \u001b[38;5;241m10\u001b[39m)\n\u001b[0;32m      6\u001b[0m \u001b[38;5;28mself\u001b[39m\u001b[38;5;241m.\u001b[39mrelu \u001b[38;5;241m=\u001b[39m ReLU()\n\u001b[0;32m      7\u001b[0m \u001b[38;5;28mself\u001b[39m\u001b[38;5;241m.\u001b[39mparameters \u001b[38;5;241m=\u001b[39m {\n\u001b[1;32m----> 8\u001b[0m     \u001b[38;5;124m\"\u001b[39m\u001b[38;5;124mfc1.W\u001b[39m\u001b[38;5;124m\"\u001b[39m: \u001b[38;5;28;43mself\u001b[39;49m\u001b[38;5;241;43m.\u001b[39;49m\u001b[43mfc1\u001b[49m\u001b[38;5;241;43m.\u001b[39;49m\u001b[43mW\u001b[49m,\n\u001b[0;32m      9\u001b[0m     \u001b[38;5;124m\"\u001b[39m\u001b[38;5;124mfc1.b\u001b[39m\u001b[38;5;124m\"\u001b[39m: \u001b[38;5;28mself\u001b[39m\u001b[38;5;241m.\u001b[39mfc1\u001b[38;5;241m.\u001b[39mb,\n\u001b[0;32m     10\u001b[0m     \u001b[38;5;124m\"\u001b[39m\u001b[38;5;124mfc2.W\u001b[39m\u001b[38;5;124m\"\u001b[39m: \u001b[38;5;28mself\u001b[39m\u001b[38;5;241m.\u001b[39mfc2\u001b[38;5;241m.\u001b[39mW,\n\u001b[0;32m     11\u001b[0m     \u001b[38;5;124m\"\u001b[39m\u001b[38;5;124mfc2.b\u001b[39m\u001b[38;5;124m\"\u001b[39m: \u001b[38;5;28mself\u001b[39m\u001b[38;5;241m.\u001b[39mfc2\u001b[38;5;241m.\u001b[39mb,\n\u001b[0;32m     12\u001b[0m     \u001b[38;5;124m\"\u001b[39m\u001b[38;5;124mfc3.W\u001b[39m\u001b[38;5;124m\"\u001b[39m: \u001b[38;5;28mself\u001b[39m\u001b[38;5;241m.\u001b[39mfc3\u001b[38;5;241m.\u001b[39mW,\n\u001b[0;32m     13\u001b[0m     \u001b[38;5;124m\"\u001b[39m\u001b[38;5;124mfc3.b\u001b[39m\u001b[38;5;124m\"\u001b[39m: \u001b[38;5;28mself\u001b[39m\u001b[38;5;241m.\u001b[39mfc3\u001b[38;5;241m.\u001b[39mb\n\u001b[0;32m     14\u001b[0m }\n\u001b[0;32m     15\u001b[0m \u001b[38;5;28mself\u001b[39m\u001b[38;5;241m.\u001b[39m_grad \u001b[38;5;241m=\u001b[39m \u001b[38;5;28;01mNone\u001b[39;00m\n",
            "\u001b[1;31mAttributeError\u001b[0m: 'Linear' object has no attribute 'W'"
          ]
        }
      ],
      "source": [
        "net = Net()\n",
        "loss = NLLLoss()"
      ]
    },
    {
      "cell_type": "code",
      "execution_count": null,
      "metadata": {
        "id": "FIXtHU-ycvu5"
      },
      "outputs": [],
      "source": [
        "with torch.no_grad():\n",
        "  for epoch in range(2):  # loop over the dataset multiple times\n",
        "      running_loss = 0.0\n",
        "      for i, data in enumerate(trainloader, 0):\n",
        "          # get the inputs; data is a list of [inputs, labels]\n",
        "          inputs, labels = data\n",
        "\n",
        "          # forward + backward + optimize\n",
        "          outputs = net(inputs)\n",
        "          loss = loss(outputs, labels)\n",
        "          dz = loss.backward(outputs, labels)\n",
        "          net.backward(dz)\n",
        "          optimizer.step(net._grad)\n",
        "\n",
        "          # print statistics\n",
        "          running_loss += loss.item()\n",
        "          if i % 2000 == 1999:    # print every 2000 mini-batches\n",
        "              print(f'[{epoch + 1}, {i + 1:5d}] loss: {running_loss / 2000:.3f}')\n",
        "              running_loss = 0.0\n",
        "\n",
        "  print('Finished Training')"
      ]
    }
  ],
  "metadata": {
    "accelerator": "GPU",
    "colab": {
      "gpuType": "T4",
      "provenance": []
    },
    "kernelspec": {
      "display_name": "Python 3",
      "name": "python3"
    },
    "language_info": {
      "codemirror_mode": {
        "name": "ipython",
        "version": 3
      },
      "file_extension": ".py",
      "mimetype": "text/x-python",
      "name": "python",
      "nbconvert_exporter": "python",
      "pygments_lexer": "ipython3",
      "version": "3.12.0"
    }
  },
  "nbformat": 4,
  "nbformat_minor": 0
}
